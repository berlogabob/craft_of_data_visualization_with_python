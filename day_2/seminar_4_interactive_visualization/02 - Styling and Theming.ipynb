{
 "cells": [
  {
   "cell_type": "markdown",
   "metadata": {},
   "source": [
    "<table style=\"float:left; border:none\">\n",
    "   <tr style=\"border:none; background-color: #ffffff\">\n",
    "       <td style=\"border:none\">\n",
    "           <a href=\"http://bokeh.pydata.org/\">     \n",
    "           <img \n",
    "               src=\"assets/bokeh-transparent.png\" \n",
    "               style=\"width:50px\"\n",
    "           >\n",
    "           </a>    \n",
    "       </td>\n",
    "       <td style=\"border:none\">\n",
    "           <h1>Bokeh Tutorial</h1>\n",
    "       </td>\n",
    "   </tr>\n",
    "</table>\n",
    "\n",
    "<div style=\"float:right;\"><h2>02. Styling and Theming</h2></div>"
   ]
  },
  {
   "cell_type": "markdown",
   "metadata": {},
   "source": [
    "In this chapter we will learn how to configure various visual aspects of our plots, and how to find out more about what an be configured. \n",
    "\n",
    "First, let's make the standard imports"
   ]
  },
  {
   "cell_type": "code",
   "execution_count": 1,
   "metadata": {},
   "outputs": [],
   "source": [
    "from bokeh.io import output_notebook, show\n",
    "from bokeh.plotting import figure"
   ]
  },
  {
   "cell_type": "code",
   "execution_count": 2,
   "metadata": {},
   "outputs": [
    {
     "data": {
      "text/html": [
       "\n",
       "    <div class=\"bk-root\">\n",
       "        <a href=\"https://bokeh.pydata.org\" target=\"_blank\" class=\"bk-logo bk-logo-small bk-logo-notebook\"></a>\n",
       "        <span id=\"e7d52fa6-e700-4c36-9d44-0b47baa8546f\">Loading BokehJS ...</span>\n",
       "    </div>"
      ]
     },
     "metadata": {},
     "output_type": "display_data"
    },
    {
     "data": {
      "application/javascript": [
       "\n",
       "(function(root) {\n",
       "  function now() {\n",
       "    return new Date();\n",
       "  }\n",
       "\n",
       "  var force = true;\n",
       "\n",
       "  if (typeof (root._bokeh_onload_callbacks) === \"undefined\" || force === true) {\n",
       "    root._bokeh_onload_callbacks = [];\n",
       "    root._bokeh_is_loading = undefined;\n",
       "  }\n",
       "\n",
       "  var JS_MIME_TYPE = 'application/javascript';\n",
       "  var HTML_MIME_TYPE = 'text/html';\n",
       "  var EXEC_MIME_TYPE = 'application/vnd.bokehjs_exec.v0+json';\n",
       "  var CLASS_NAME = 'output_bokeh rendered_html';\n",
       "\n",
       "  /**\n",
       "   * Render data to the DOM node\n",
       "   */\n",
       "  function render(props, node) {\n",
       "    var script = document.createElement(\"script\");\n",
       "    node.appendChild(script);\n",
       "  }\n",
       "\n",
       "  /**\n",
       "   * Handle when an output is cleared or removed\n",
       "   */\n",
       "  function handleClearOutput(event, handle) {\n",
       "    var cell = handle.cell;\n",
       "\n",
       "    var id = cell.output_area._bokeh_element_id;\n",
       "    var server_id = cell.output_area._bokeh_server_id;\n",
       "    // Clean up Bokeh references\n",
       "    if (id !== undefined) {\n",
       "      Bokeh.index[id].model.document.clear();\n",
       "      delete Bokeh.index[id];\n",
       "    }\n",
       "\n",
       "    if (server_id !== undefined) {\n",
       "      // Clean up Bokeh references\n",
       "      var cmd = \"from bokeh.io.state import curstate; print(curstate().uuid_to_server['\" + server_id + \"'].get_sessions()[0].document.roots[0]._id)\";\n",
       "      cell.notebook.kernel.execute(cmd, {\n",
       "        iopub: {\n",
       "          output: function(msg) {\n",
       "            var element_id = msg.content.text.trim();\n",
       "            Bokeh.index[element_id].model.document.clear();\n",
       "            delete Bokeh.index[element_id];\n",
       "          }\n",
       "        }\n",
       "      });\n",
       "      // Destroy server and session\n",
       "      var cmd = \"import bokeh.io.notebook as ion; ion.destroy_server('\" + server_id + \"')\";\n",
       "      cell.notebook.kernel.execute(cmd);\n",
       "    }\n",
       "  }\n",
       "\n",
       "  /**\n",
       "   * Handle when a new output is added\n",
       "   */\n",
       "  function handleAddOutput(event, handle) {\n",
       "    var output_area = handle.output_area;\n",
       "    var output = handle.output;\n",
       "\n",
       "    // limit handleAddOutput to display_data with EXEC_MIME_TYPE content only\n",
       "    if ((output.output_type != \"display_data\") || (!output.data.hasOwnProperty(EXEC_MIME_TYPE))) {\n",
       "      return\n",
       "    }\n",
       "\n",
       "    var toinsert = output_area.element.find(\".\" + CLASS_NAME.split(' ')[0]);\n",
       "\n",
       "    if (output.metadata[EXEC_MIME_TYPE][\"id\"] !== undefined) {\n",
       "      toinsert[toinsert.length - 1].firstChild.textContent = output.data[JS_MIME_TYPE];\n",
       "      // store reference to embed id on output_area\n",
       "      output_area._bokeh_element_id = output.metadata[EXEC_MIME_TYPE][\"id\"];\n",
       "    }\n",
       "    if (output.metadata[EXEC_MIME_TYPE][\"server_id\"] !== undefined) {\n",
       "      var bk_div = document.createElement(\"div\");\n",
       "      bk_div.innerHTML = output.data[HTML_MIME_TYPE];\n",
       "      var script_attrs = bk_div.children[0].attributes;\n",
       "      for (var i = 0; i < script_attrs.length; i++) {\n",
       "        toinsert[toinsert.length - 1].firstChild.setAttribute(script_attrs[i].name, script_attrs[i].value);\n",
       "      }\n",
       "      // store reference to server id on output_area\n",
       "      output_area._bokeh_server_id = output.metadata[EXEC_MIME_TYPE][\"server_id\"];\n",
       "    }\n",
       "  }\n",
       "\n",
       "  function register_renderer(events, OutputArea) {\n",
       "\n",
       "    function append_mime(data, metadata, element) {\n",
       "      // create a DOM node to render to\n",
       "      var toinsert = this.create_output_subarea(\n",
       "        metadata,\n",
       "        CLASS_NAME,\n",
       "        EXEC_MIME_TYPE\n",
       "      );\n",
       "      this.keyboard_manager.register_events(toinsert);\n",
       "      // Render to node\n",
       "      var props = {data: data, metadata: metadata[EXEC_MIME_TYPE]};\n",
       "      render(props, toinsert[toinsert.length - 1]);\n",
       "      element.append(toinsert);\n",
       "      return toinsert\n",
       "    }\n",
       "\n",
       "    /* Handle when an output is cleared or removed */\n",
       "    events.on('clear_output.CodeCell', handleClearOutput);\n",
       "    events.on('delete.Cell', handleClearOutput);\n",
       "\n",
       "    /* Handle when a new output is added */\n",
       "    events.on('output_added.OutputArea', handleAddOutput);\n",
       "\n",
       "    /**\n",
       "     * Register the mime type and append_mime function with output_area\n",
       "     */\n",
       "    OutputArea.prototype.register_mime_type(EXEC_MIME_TYPE, append_mime, {\n",
       "      /* Is output safe? */\n",
       "      safe: true,\n",
       "      /* Index of renderer in `output_area.display_order` */\n",
       "      index: 0\n",
       "    });\n",
       "  }\n",
       "\n",
       "  // register the mime type if in Jupyter Notebook environment and previously unregistered\n",
       "  if (root.Jupyter !== undefined) {\n",
       "    var events = require('base/js/events');\n",
       "    var OutputArea = require('notebook/js/outputarea').OutputArea;\n",
       "\n",
       "    if (OutputArea.prototype.mime_types().indexOf(EXEC_MIME_TYPE) == -1) {\n",
       "      register_renderer(events, OutputArea);\n",
       "    }\n",
       "  }\n",
       "\n",
       "  \n",
       "  if (typeof (root._bokeh_timeout) === \"undefined\" || force === true) {\n",
       "    root._bokeh_timeout = Date.now() + 5000;\n",
       "    root._bokeh_failed_load = false;\n",
       "  }\n",
       "\n",
       "  var NB_LOAD_WARNING = {'data': {'text/html':\n",
       "     \"<div style='background-color: #fdd'>\\n\"+\n",
       "     \"<p>\\n\"+\n",
       "     \"BokehJS does not appear to have successfully loaded. If loading BokehJS from CDN, this \\n\"+\n",
       "     \"may be due to a slow or bad network connection. Possible fixes:\\n\"+\n",
       "     \"</p>\\n\"+\n",
       "     \"<ul>\\n\"+\n",
       "     \"<li>re-rerun `output_notebook()` to attempt to load from CDN again, or</li>\\n\"+\n",
       "     \"<li>use INLINE resources instead, as so:</li>\\n\"+\n",
       "     \"</ul>\\n\"+\n",
       "     \"<code>\\n\"+\n",
       "     \"from bokeh.resources import INLINE\\n\"+\n",
       "     \"output_notebook(resources=INLINE)\\n\"+\n",
       "     \"</code>\\n\"+\n",
       "     \"</div>\"}};\n",
       "\n",
       "  function display_loaded() {\n",
       "    var el = document.getElementById(\"e7d52fa6-e700-4c36-9d44-0b47baa8546f\");\n",
       "    if (el != null) {\n",
       "      el.textContent = \"BokehJS is loading...\";\n",
       "    }\n",
       "    if (root.Bokeh !== undefined) {\n",
       "      if (el != null) {\n",
       "        el.textContent = \"BokehJS \" + root.Bokeh.version + \" successfully loaded.\";\n",
       "      }\n",
       "    } else if (Date.now() < root._bokeh_timeout) {\n",
       "      setTimeout(display_loaded, 100)\n",
       "    }\n",
       "  }\n",
       "\n",
       "\n",
       "  function run_callbacks() {\n",
       "    try {\n",
       "      root._bokeh_onload_callbacks.forEach(function(callback) { callback() });\n",
       "    }\n",
       "    finally {\n",
       "      delete root._bokeh_onload_callbacks\n",
       "    }\n",
       "    console.info(\"Bokeh: all callbacks have finished\");\n",
       "  }\n",
       "\n",
       "  function load_libs(js_urls, callback) {\n",
       "    root._bokeh_onload_callbacks.push(callback);\n",
       "    if (root._bokeh_is_loading > 0) {\n",
       "      console.log(\"Bokeh: BokehJS is being loaded, scheduling callback at\", now());\n",
       "      return null;\n",
       "    }\n",
       "    if (js_urls == null || js_urls.length === 0) {\n",
       "      run_callbacks();\n",
       "      return null;\n",
       "    }\n",
       "    console.log(\"Bokeh: BokehJS not loaded, scheduling load and callback at\", now());\n",
       "    root._bokeh_is_loading = js_urls.length;\n",
       "    for (var i = 0; i < js_urls.length; i++) {\n",
       "      var url = js_urls[i];\n",
       "      var s = document.createElement('script');\n",
       "      s.src = url;\n",
       "      s.async = false;\n",
       "      s.onreadystatechange = s.onload = function() {\n",
       "        root._bokeh_is_loading--;\n",
       "        if (root._bokeh_is_loading === 0) {\n",
       "          console.log(\"Bokeh: all BokehJS libraries loaded\");\n",
       "          run_callbacks()\n",
       "        }\n",
       "      };\n",
       "      s.onerror = function() {\n",
       "        console.warn(\"failed to load library \" + url);\n",
       "      };\n",
       "      console.log(\"Bokeh: injecting script tag for BokehJS library: \", url);\n",
       "      document.getElementsByTagName(\"head\")[0].appendChild(s);\n",
       "    }\n",
       "  };var element = document.getElementById(\"e7d52fa6-e700-4c36-9d44-0b47baa8546f\");\n",
       "  if (element == null) {\n",
       "    console.log(\"Bokeh: ERROR: autoload.js configured with elementid 'e7d52fa6-e700-4c36-9d44-0b47baa8546f' but no matching script tag was found. \")\n",
       "    return false;\n",
       "  }\n",
       "\n",
       "  var js_urls = [\"https://cdn.pydata.org/bokeh/release/bokeh-0.12.16.min.js\", \"https://cdn.pydata.org/bokeh/release/bokeh-widgets-0.12.16.min.js\", \"https://cdn.pydata.org/bokeh/release/bokeh-tables-0.12.16.min.js\", \"https://cdn.pydata.org/bokeh/release/bokeh-gl-0.12.16.min.js\"];\n",
       "\n",
       "  var inline_js = [\n",
       "    function(Bokeh) {\n",
       "      Bokeh.set_log_level(\"info\");\n",
       "    },\n",
       "    \n",
       "    function(Bokeh) {\n",
       "      \n",
       "    },\n",
       "    function(Bokeh) {\n",
       "      console.log(\"Bokeh: injecting CSS: https://cdn.pydata.org/bokeh/release/bokeh-0.12.16.min.css\");\n",
       "      Bokeh.embed.inject_css(\"https://cdn.pydata.org/bokeh/release/bokeh-0.12.16.min.css\");\n",
       "      console.log(\"Bokeh: injecting CSS: https://cdn.pydata.org/bokeh/release/bokeh-widgets-0.12.16.min.css\");\n",
       "      Bokeh.embed.inject_css(\"https://cdn.pydata.org/bokeh/release/bokeh-widgets-0.12.16.min.css\");\n",
       "      console.log(\"Bokeh: injecting CSS: https://cdn.pydata.org/bokeh/release/bokeh-tables-0.12.16.min.css\");\n",
       "      Bokeh.embed.inject_css(\"https://cdn.pydata.org/bokeh/release/bokeh-tables-0.12.16.min.css\");\n",
       "    }\n",
       "  ];\n",
       "\n",
       "  function run_inline_js() {\n",
       "    \n",
       "    if ((root.Bokeh !== undefined) || (force === true)) {\n",
       "      for (var i = 0; i < inline_js.length; i++) {\n",
       "        inline_js[i].call(root, root.Bokeh);\n",
       "      }if (force === true) {\n",
       "        display_loaded();\n",
       "      }} else if (Date.now() < root._bokeh_timeout) {\n",
       "      setTimeout(run_inline_js, 100);\n",
       "    } else if (!root._bokeh_failed_load) {\n",
       "      console.log(\"Bokeh: BokehJS failed to load within specified timeout.\");\n",
       "      root._bokeh_failed_load = true;\n",
       "    } else if (force !== true) {\n",
       "      var cell = $(document.getElementById(\"e7d52fa6-e700-4c36-9d44-0b47baa8546f\")).parents('.cell').data().cell;\n",
       "      cell.output_area.append_execute_result(NB_LOAD_WARNING)\n",
       "    }\n",
       "\n",
       "  }\n",
       "\n",
       "  if (root._bokeh_is_loading === 0) {\n",
       "    console.log(\"Bokeh: BokehJS loaded, going straight to plotting\");\n",
       "    run_inline_js();\n",
       "  } else {\n",
       "    load_libs(js_urls, function() {\n",
       "      console.log(\"Bokeh: BokehJS plotting callback run at\", now());\n",
       "      run_inline_js();\n",
       "    });\n",
       "  }\n",
       "}(window));"
      ],
      "application/vnd.bokehjs_load.v0+json": "\n(function(root) {\n  function now() {\n    return new Date();\n  }\n\n  var force = true;\n\n  if (typeof (root._bokeh_onload_callbacks) === \"undefined\" || force === true) {\n    root._bokeh_onload_callbacks = [];\n    root._bokeh_is_loading = undefined;\n  }\n\n  \n\n  \n  if (typeof (root._bokeh_timeout) === \"undefined\" || force === true) {\n    root._bokeh_timeout = Date.now() + 5000;\n    root._bokeh_failed_load = false;\n  }\n\n  var NB_LOAD_WARNING = {'data': {'text/html':\n     \"<div style='background-color: #fdd'>\\n\"+\n     \"<p>\\n\"+\n     \"BokehJS does not appear to have successfully loaded. If loading BokehJS from CDN, this \\n\"+\n     \"may be due to a slow or bad network connection. Possible fixes:\\n\"+\n     \"</p>\\n\"+\n     \"<ul>\\n\"+\n     \"<li>re-rerun `output_notebook()` to attempt to load from CDN again, or</li>\\n\"+\n     \"<li>use INLINE resources instead, as so:</li>\\n\"+\n     \"</ul>\\n\"+\n     \"<code>\\n\"+\n     \"from bokeh.resources import INLINE\\n\"+\n     \"output_notebook(resources=INLINE)\\n\"+\n     \"</code>\\n\"+\n     \"</div>\"}};\n\n  function display_loaded() {\n    var el = document.getElementById(\"e7d52fa6-e700-4c36-9d44-0b47baa8546f\");\n    if (el != null) {\n      el.textContent = \"BokehJS is loading...\";\n    }\n    if (root.Bokeh !== undefined) {\n      if (el != null) {\n        el.textContent = \"BokehJS \" + root.Bokeh.version + \" successfully loaded.\";\n      }\n    } else if (Date.now() < root._bokeh_timeout) {\n      setTimeout(display_loaded, 100)\n    }\n  }\n\n\n  function run_callbacks() {\n    try {\n      root._bokeh_onload_callbacks.forEach(function(callback) { callback() });\n    }\n    finally {\n      delete root._bokeh_onload_callbacks\n    }\n    console.info(\"Bokeh: all callbacks have finished\");\n  }\n\n  function load_libs(js_urls, callback) {\n    root._bokeh_onload_callbacks.push(callback);\n    if (root._bokeh_is_loading > 0) {\n      console.log(\"Bokeh: BokehJS is being loaded, scheduling callback at\", now());\n      return null;\n    }\n    if (js_urls == null || js_urls.length === 0) {\n      run_callbacks();\n      return null;\n    }\n    console.log(\"Bokeh: BokehJS not loaded, scheduling load and callback at\", now());\n    root._bokeh_is_loading = js_urls.length;\n    for (var i = 0; i < js_urls.length; i++) {\n      var url = js_urls[i];\n      var s = document.createElement('script');\n      s.src = url;\n      s.async = false;\n      s.onreadystatechange = s.onload = function() {\n        root._bokeh_is_loading--;\n        if (root._bokeh_is_loading === 0) {\n          console.log(\"Bokeh: all BokehJS libraries loaded\");\n          run_callbacks()\n        }\n      };\n      s.onerror = function() {\n        console.warn(\"failed to load library \" + url);\n      };\n      console.log(\"Bokeh: injecting script tag for BokehJS library: \", url);\n      document.getElementsByTagName(\"head\")[0].appendChild(s);\n    }\n  };var element = document.getElementById(\"e7d52fa6-e700-4c36-9d44-0b47baa8546f\");\n  if (element == null) {\n    console.log(\"Bokeh: ERROR: autoload.js configured with elementid 'e7d52fa6-e700-4c36-9d44-0b47baa8546f' but no matching script tag was found. \")\n    return false;\n  }\n\n  var js_urls = [\"https://cdn.pydata.org/bokeh/release/bokeh-0.12.16.min.js\", \"https://cdn.pydata.org/bokeh/release/bokeh-widgets-0.12.16.min.js\", \"https://cdn.pydata.org/bokeh/release/bokeh-tables-0.12.16.min.js\", \"https://cdn.pydata.org/bokeh/release/bokeh-gl-0.12.16.min.js\"];\n\n  var inline_js = [\n    function(Bokeh) {\n      Bokeh.set_log_level(\"info\");\n    },\n    \n    function(Bokeh) {\n      \n    },\n    function(Bokeh) {\n      console.log(\"Bokeh: injecting CSS: https://cdn.pydata.org/bokeh/release/bokeh-0.12.16.min.css\");\n      Bokeh.embed.inject_css(\"https://cdn.pydata.org/bokeh/release/bokeh-0.12.16.min.css\");\n      console.log(\"Bokeh: injecting CSS: https://cdn.pydata.org/bokeh/release/bokeh-widgets-0.12.16.min.css\");\n      Bokeh.embed.inject_css(\"https://cdn.pydata.org/bokeh/release/bokeh-widgets-0.12.16.min.css\");\n      console.log(\"Bokeh: injecting CSS: https://cdn.pydata.org/bokeh/release/bokeh-tables-0.12.16.min.css\");\n      Bokeh.embed.inject_css(\"https://cdn.pydata.org/bokeh/release/bokeh-tables-0.12.16.min.css\");\n    }\n  ];\n\n  function run_inline_js() {\n    \n    if ((root.Bokeh !== undefined) || (force === true)) {\n      for (var i = 0; i < inline_js.length; i++) {\n        inline_js[i].call(root, root.Bokeh);\n      }if (force === true) {\n        display_loaded();\n      }} else if (Date.now() < root._bokeh_timeout) {\n      setTimeout(run_inline_js, 100);\n    } else if (!root._bokeh_failed_load) {\n      console.log(\"Bokeh: BokehJS failed to load within specified timeout.\");\n      root._bokeh_failed_load = true;\n    } else if (force !== true) {\n      var cell = $(document.getElementById(\"e7d52fa6-e700-4c36-9d44-0b47baa8546f\")).parents('.cell').data().cell;\n      cell.output_area.append_execute_result(NB_LOAD_WARNING)\n    }\n\n  }\n\n  if (root._bokeh_is_loading === 0) {\n    console.log(\"Bokeh: BokehJS loaded, going straight to plotting\");\n    run_inline_js();\n  } else {\n    load_libs(js_urls, function() {\n      console.log(\"Bokeh: BokehJS plotting callback run at\", now());\n      run_inline_js();\n    });\n  }\n}(window));"
     },
     "metadata": {},
     "output_type": "display_data"
    }
   ],
   "source": [
    "output_notebook()"
   ]
  },
  {
   "cell_type": "markdown",
   "metadata": {},
   "source": [
    "Before we get started, it's useful to describe how colors and properties are specified in Bokeh. \n",
    "\n",
    "## Colors\n",
    "\n",
    "There are many places where you may need to specify colors. Bokeh can accept colors in a variety of different ways:\n",
    "\n",
    "* any of the [147 named CSS colors](http://www.w3schools.com/cssref/css_colornames.asp), e.g ``'green'``, ``'indigo'``\n",
    "* an RGB(A) hex value, e.g., ``'#FF0000'``, ``'#44444444'``\n",
    "* a 3-tuple of integers *(r,g,b)* between 0 and 255\n",
    "*  a 4-tuple of *(r,g,b,a)* where *r*, *g*, *b* are integers between 0 and 255 and *a* is a floating point value between 0 and 1\n",
    "\n",
    "\n",
    "\n",
    "## Properties\n",
    "\n",
    "Regardless of how a Bokeh plot is created, styling the visual aspects of the plot can always be accomplished by setting attributes on the Bokeh objects that comprise the resulting plot. Visual properties come in three kinds: line, fill, and text properties. For full information with code and examples see the [Styling Visual Properties](http://bokeh.pydata.org/en/latest/docs/user_guide/styling.html) section of the user guide. \n",
    "\n",
    "----\n",
    "\n",
    "### Line Properties\n",
    "\n",
    "Set the visual appearance of lines. The most common are ``line_color``, ``line_alpha``, ``line_width`` and ``line_dash``.\n",
    "\n",
    "### Fill Properties\n",
    "\n",
    "Set the visual appearance of filled areas: ``fill_color`` and ``fill_alpha``.\n",
    "\n",
    "### Text Properties\n",
    "\n",
    "Set the visual appearance of lines of text. The most common are ``text_font``, ``text_font_size``, ``text_color``, and ``text_alpha``.\n",
    "\n",
    "----\n",
    "\n",
    "Sometimes a prefix is used with property names, e.g. to distinguish between different line properties on the same object, or to give a more meaningful name. For example, to set the line width of the plot outline, you would say ``myplot.outline_line_width = 2``. "
   ]
  },
  {
   "cell_type": "markdown",
   "metadata": {},
   "source": [
    "# Plots\n",
    "\n",
    "Many top-level attributes of plots (outline, border, etc.) can be configured. See the [Plots](http://bokeh.pydata.org/en/latest/docs/user_guide/styling.html#plots) section of the styling guide for full information. \n",
    "\n",
    "Here is an example that tweaks the plot outline:"
   ]
  },
  {
   "cell_type": "code",
   "execution_count": 3,
   "metadata": {
    "scrolled": false
   },
   "outputs": [
    {
     "data": {
      "text/html": [
       "\n",
       "<div class=\"bk-root\">\n",
       "    <div class=\"bk-plotdiv\" id=\"db5003bc-22d9-4a7b-8855-0c26bfcaf05d\"></div>\n",
       "</div>"
      ]
     },
     "metadata": {},
     "output_type": "display_data"
    },
    {
     "data": {
      "application/javascript": [
       "(function(root) {\n",
       "  function embed_document(root) {\n",
       "    \n",
       "  var docs_json = {\"239d2770-9648-48da-8e73-7805855a7f94\":{\"roots\":{\"references\":[{\"attributes\":{},\"id\":\"040ba2cc-8b54-46d6-9cca-ded9c18d3c6d\",\"type\":\"BasicTicker\"},{\"attributes\":{\"bottom_units\":\"screen\",\"fill_alpha\":{\"value\":0.5},\"fill_color\":{\"value\":\"lightgrey\"},\"left_units\":\"screen\",\"level\":\"overlay\",\"line_alpha\":{\"value\":1.0},\"line_color\":{\"value\":\"black\"},\"line_dash\":[4,4],\"line_width\":{\"value\":2},\"plot\":null,\"render_mode\":\"css\",\"right_units\":\"screen\",\"top_units\":\"screen\"},\"id\":\"ac64944f-05ed-4f33-a21a-adbf215ca08e\",\"type\":\"BoxAnnotation\"},{\"attributes\":{\"plot\":{\"id\":\"1666a546-ca24-4652-ae21-dfaa36ab6973\",\"subtype\":\"Figure\",\"type\":\"Plot\"},\"ticker\":{\"id\":\"040ba2cc-8b54-46d6-9cca-ded9c18d3c6d\",\"type\":\"BasicTicker\"}},\"id\":\"4ca7e775-88c9-46c2-b668-a044f30d95bf\",\"type\":\"Grid\"},{\"attributes\":{},\"id\":\"adaf064d-c0d4-427d-b5cf-e9eaa325cd27\",\"type\":\"HelpTool\"},{\"attributes\":{},\"id\":\"4f5aac1f-a49d-42a4-940e-c85c8523a350\",\"type\":\"UnionRenderers\"},{\"attributes\":{\"source\":{\"id\":\"5dc6ed50-18ff-484b-9a78-e8c3dd9e7b51\",\"type\":\"ColumnDataSource\"}},\"id\":\"c7790ae5-0f38-40bb-b21e-25ebf8cdfaea\",\"type\":\"CDSView\"},{\"attributes\":{\"formatter\":{\"id\":\"73464c41-d69c-47da-8475-5ed557f9da08\",\"type\":\"BasicTickFormatter\"},\"plot\":{\"id\":\"1666a546-ca24-4652-ae21-dfaa36ab6973\",\"subtype\":\"Figure\",\"type\":\"Plot\"},\"ticker\":{\"id\":\"edd3840c-0987-48dd-8ad1-154c750e1a7f\",\"type\":\"BasicTicker\"}},\"id\":\"f4c7ead9-10ac-4d38-804b-a9ea76b5138b\",\"type\":\"LinearAxis\"},{\"attributes\":{\"plot\":null,\"text\":\"\"},\"id\":\"503884bb-4f9c-4f83-819a-6bb65e8639ba\",\"type\":\"Title\"},{\"attributes\":{},\"id\":\"edd3840c-0987-48dd-8ad1-154c750e1a7f\",\"type\":\"BasicTicker\"},{\"attributes\":{\"below\":[{\"id\":\"55e5d7be-0bcb-4a0c-ba4c-2ce623a246db\",\"type\":\"LinearAxis\"}],\"left\":[{\"id\":\"f4c7ead9-10ac-4d38-804b-a9ea76b5138b\",\"type\":\"LinearAxis\"}],\"outline_line_alpha\":{\"value\":0.3},\"outline_line_color\":{\"value\":\"navy\"},\"outline_line_width\":{\"value\":7},\"plot_height\":400,\"plot_width\":400,\"renderers\":[{\"id\":\"55e5d7be-0bcb-4a0c-ba4c-2ce623a246db\",\"type\":\"LinearAxis\"},{\"id\":\"4ca7e775-88c9-46c2-b668-a044f30d95bf\",\"type\":\"Grid\"},{\"id\":\"f4c7ead9-10ac-4d38-804b-a9ea76b5138b\",\"type\":\"LinearAxis\"},{\"id\":\"2da629ae-f0b0-48a9-a265-c2640325610c\",\"type\":\"Grid\"},{\"id\":\"ac64944f-05ed-4f33-a21a-adbf215ca08e\",\"type\":\"BoxAnnotation\"},{\"id\":\"33b53542-d0bb-4798-ac51-1244cb38d16c\",\"type\":\"GlyphRenderer\"}],\"title\":{\"id\":\"503884bb-4f9c-4f83-819a-6bb65e8639ba\",\"type\":\"Title\"},\"toolbar\":{\"id\":\"79ec871f-ea44-4d2c-85ac-9a63e8e0c8a2\",\"type\":\"Toolbar\"},\"x_range\":{\"id\":\"f26a708e-f321-4d39-9046-98e6b06b02bc\",\"type\":\"DataRange1d\"},\"x_scale\":{\"id\":\"213e6487-8422-4d59-a24d-50012c5e7f52\",\"type\":\"LinearScale\"},\"y_range\":{\"id\":\"235379a3-f637-45ae-a9e4-78a29cabd6cd\",\"type\":\"DataRange1d\"},\"y_scale\":{\"id\":\"073e841f-ff28-4bec-94f7-9b707871b6d6\",\"type\":\"LinearScale\"}},\"id\":\"1666a546-ca24-4652-ae21-dfaa36ab6973\",\"subtype\":\"Figure\",\"type\":\"Plot\"},{\"attributes\":{},\"id\":\"ca261a63-f569-4835-9899-d1757dc51113\",\"type\":\"BasicTickFormatter\"},{\"attributes\":{\"dimension\":1,\"plot\":{\"id\":\"1666a546-ca24-4652-ae21-dfaa36ab6973\",\"subtype\":\"Figure\",\"type\":\"Plot\"},\"ticker\":{\"id\":\"edd3840c-0987-48dd-8ad1-154c750e1a7f\",\"type\":\"BasicTicker\"}},\"id\":\"2da629ae-f0b0-48a9-a265-c2640325610c\",\"type\":\"Grid\"},{\"attributes\":{},\"id\":\"73464c41-d69c-47da-8475-5ed557f9da08\",\"type\":\"BasicTickFormatter\"},{\"attributes\":{\"data_source\":{\"id\":\"5dc6ed50-18ff-484b-9a78-e8c3dd9e7b51\",\"type\":\"ColumnDataSource\"},\"glyph\":{\"id\":\"d4744964-73d7-4341-8cc3-0c854ef8213c\",\"type\":\"Circle\"},\"hover_glyph\":null,\"muted_glyph\":null,\"nonselection_glyph\":{\"id\":\"36a273b9-c765-4df6-a972-589e993648c9\",\"type\":\"Circle\"},\"selection_glyph\":null,\"view\":{\"id\":\"c7790ae5-0f38-40bb-b21e-25ebf8cdfaea\",\"type\":\"CDSView\"}},\"id\":\"33b53542-d0bb-4798-ac51-1244cb38d16c\",\"type\":\"GlyphRenderer\"},{\"attributes\":{\"active_drag\":\"auto\",\"active_inspect\":\"auto\",\"active_scroll\":\"auto\",\"active_tap\":\"auto\",\"tools\":[{\"id\":\"ddd44999-7331-4ac8-b8ea-a14b0774aaa0\",\"type\":\"PanTool\"},{\"id\":\"2b0191fa-6d59-46d7-8486-7fdae4db2fde\",\"type\":\"WheelZoomTool\"},{\"id\":\"4cd8f0ec-a8a6-4d95-af28-534248ea558e\",\"type\":\"BoxZoomTool\"},{\"id\":\"2ef352b1-3058-450d-9232-be2c176ab4a2\",\"type\":\"SaveTool\"},{\"id\":\"e70c0ef1-45d2-4e09-8a6c-358d141e1363\",\"type\":\"ResetTool\"},{\"id\":\"adaf064d-c0d4-427d-b5cf-e9eaa325cd27\",\"type\":\"HelpTool\"}]},\"id\":\"79ec871f-ea44-4d2c-85ac-9a63e8e0c8a2\",\"type\":\"Toolbar\"},{\"attributes\":{\"fill_alpha\":{\"value\":0.1},\"fill_color\":{\"value\":\"#1f77b4\"},\"line_alpha\":{\"value\":0.1},\"line_color\":{\"value\":\"#1f77b4\"},\"size\":{\"units\":\"screen\",\"value\":10},\"x\":{\"field\":\"x\"},\"y\":{\"field\":\"y\"}},\"id\":\"36a273b9-c765-4df6-a972-589e993648c9\",\"type\":\"Circle\"},{\"attributes\":{\"fill_color\":{\"value\":\"#1f77b4\"},\"line_color\":{\"value\":\"#1f77b4\"},\"size\":{\"units\":\"screen\",\"value\":10},\"x\":{\"field\":\"x\"},\"y\":{\"field\":\"y\"}},\"id\":\"d4744964-73d7-4341-8cc3-0c854ef8213c\",\"type\":\"Circle\"},{\"attributes\":{\"callback\":null},\"id\":\"f26a708e-f321-4d39-9046-98e6b06b02bc\",\"type\":\"DataRange1d\"},{\"attributes\":{\"callback\":null,\"data\":{\"x\":[1,2,3,4,5],\"y\":[2,5,8,2,7]},\"selected\":{\"id\":\"bd82d61d-3896-421e-a3fa-ccc5cc11feaf\",\"type\":\"Selection\"},\"selection_policy\":{\"id\":\"4f5aac1f-a49d-42a4-940e-c85c8523a350\",\"type\":\"UnionRenderers\"}},\"id\":\"5dc6ed50-18ff-484b-9a78-e8c3dd9e7b51\",\"type\":\"ColumnDataSource\"},{\"attributes\":{},\"id\":\"ddd44999-7331-4ac8-b8ea-a14b0774aaa0\",\"type\":\"PanTool\"},{\"attributes\":{\"callback\":null},\"id\":\"235379a3-f637-45ae-a9e4-78a29cabd6cd\",\"type\":\"DataRange1d\"},{\"attributes\":{},\"id\":\"e70c0ef1-45d2-4e09-8a6c-358d141e1363\",\"type\":\"ResetTool\"},{\"attributes\":{},\"id\":\"213e6487-8422-4d59-a24d-50012c5e7f52\",\"type\":\"LinearScale\"},{\"attributes\":{},\"id\":\"2b0191fa-6d59-46d7-8486-7fdae4db2fde\",\"type\":\"WheelZoomTool\"},{\"attributes\":{},\"id\":\"073e841f-ff28-4bec-94f7-9b707871b6d6\",\"type\":\"LinearScale\"},{\"attributes\":{\"overlay\":{\"id\":\"ac64944f-05ed-4f33-a21a-adbf215ca08e\",\"type\":\"BoxAnnotation\"}},\"id\":\"4cd8f0ec-a8a6-4d95-af28-534248ea558e\",\"type\":\"BoxZoomTool\"},{\"attributes\":{},\"id\":\"bd82d61d-3896-421e-a3fa-ccc5cc11feaf\",\"type\":\"Selection\"},{\"attributes\":{},\"id\":\"2ef352b1-3058-450d-9232-be2c176ab4a2\",\"type\":\"SaveTool\"},{\"attributes\":{\"formatter\":{\"id\":\"ca261a63-f569-4835-9899-d1757dc51113\",\"type\":\"BasicTickFormatter\"},\"plot\":{\"id\":\"1666a546-ca24-4652-ae21-dfaa36ab6973\",\"subtype\":\"Figure\",\"type\":\"Plot\"},\"ticker\":{\"id\":\"040ba2cc-8b54-46d6-9cca-ded9c18d3c6d\",\"type\":\"BasicTicker\"}},\"id\":\"55e5d7be-0bcb-4a0c-ba4c-2ce623a246db\",\"type\":\"LinearAxis\"}],\"root_ids\":[\"1666a546-ca24-4652-ae21-dfaa36ab6973\"]},\"title\":\"Bokeh Application\",\"version\":\"0.12.16\"}};\n",
       "  var render_items = [{\"docid\":\"239d2770-9648-48da-8e73-7805855a7f94\",\"elementid\":\"db5003bc-22d9-4a7b-8855-0c26bfcaf05d\",\"modelid\":\"1666a546-ca24-4652-ae21-dfaa36ab6973\"}];\n",
       "  root.Bokeh.embed.embed_items_notebook(docs_json, render_items);\n",
       "\n",
       "  }\n",
       "  if (root.Bokeh !== undefined) {\n",
       "    embed_document(root);\n",
       "  } else {\n",
       "    var attempts = 0;\n",
       "    var timer = setInterval(function(root) {\n",
       "      if (root.Bokeh !== undefined) {\n",
       "        embed_document(root);\n",
       "        clearInterval(timer);\n",
       "      }\n",
       "      attempts++;\n",
       "      if (attempts > 100) {\n",
       "        console.log(\"Bokeh: ERROR: Unable to run BokehJS code because BokehJS library is missing\")\n",
       "        clearInterval(timer);\n",
       "      }\n",
       "    }, 10, root)\n",
       "  }\n",
       "})(window);"
      ],
      "application/vnd.bokehjs_exec.v0+json": ""
     },
     "metadata": {
      "application/vnd.bokehjs_exec.v0+json": {
       "id": "1666a546-ca24-4652-ae21-dfaa36ab6973"
      }
     },
     "output_type": "display_data"
    }
   ],
   "source": [
    "# create a new plot with a title\n",
    "p = figure(plot_width=400, plot_height=400)\n",
    "p.outline_line_width = 7\n",
    "p.outline_line_alpha = 0.3\n",
    "p.outline_line_color = \"navy\"\n",
    "\n",
    "p.circle([1,2,3,4,5], [2,5,8,2,7], size=10)\n",
    "\n",
    "show(p)"
   ]
  },
  {
   "cell_type": "code",
   "execution_count": 4,
   "metadata": {},
   "outputs": [],
   "source": [
    "# EXERCISE Create a plot of your own and customize several plot-level properties\n"
   ]
  },
  {
   "cell_type": "markdown",
   "metadata": {},
   "source": [
    "# Glyphs\n",
    "\n",
    "It's also possible to style the visual properties of glyphs. When using `bokeh.plotting` this is often done when calling the glyph methods:\n",
    "```python\n",
    "p.circle(line_color=\"red\", fill_alpha=0.2, ...)\n",
    "```\n",
    "But it is also possible to set these properties directly on glyph objects. Glyph objects are found on `GlyphRenderer` objects, which are returned by the `Plot.add_glyph` and `bokeh.plotting` glyph methods like `circle`, `rect`, etc. Let's look at an example:"
   ]
  },
  {
   "cell_type": "code",
   "execution_count": 5,
   "metadata": {},
   "outputs": [
    {
     "data": {
      "text/html": [
       "\n",
       "<div class=\"bk-root\">\n",
       "    <div class=\"bk-plotdiv\" id=\"d7e94f4e-a2b4-417e-b74a-94b218ea11ed\"></div>\n",
       "</div>"
      ]
     },
     "metadata": {},
     "output_type": "display_data"
    },
    {
     "data": {
      "application/javascript": [
       "(function(root) {\n",
       "  function embed_document(root) {\n",
       "    \n",
       "  var docs_json = {\"a09f8c45-97fc-4591-b342-396a9e6154a2\":{\"roots\":{\"references\":[{\"attributes\":{\"plot\":{\"id\":\"40603b91-830e-4797-a50d-c1428fcf4056\",\"subtype\":\"Figure\",\"type\":\"Plot\"},\"ticker\":{\"id\":\"121da6cf-9342-452d-ab6d-ba0edec929ac\",\"type\":\"BasicTicker\"}},\"id\":\"fcb284dd-034c-45a1-b104-78b69af03c34\",\"type\":\"Grid\"},{\"attributes\":{},\"id\":\"b6510909-9c27-4fd3-bdcf-21b70e88d644\",\"type\":\"WheelZoomTool\"},{\"attributes\":{},\"id\":\"121da6cf-9342-452d-ab6d-ba0edec929ac\",\"type\":\"BasicTicker\"},{\"attributes\":{},\"id\":\"821f771d-c6a2-41b6-8a3b-13744dccc003\",\"type\":\"BasicTickFormatter\"},{\"attributes\":{},\"id\":\"65174af7-e3f3-4927-af0e-95df0b307a9a\",\"type\":\"UnionRenderers\"},{\"attributes\":{},\"id\":\"f1028ff9-f6ae-4e54-842d-0e03a7751f13\",\"type\":\"BasicTicker\"},{\"attributes\":{},\"id\":\"c3254bbb-f5c4-404d-9c46-68835685ab04\",\"type\":\"HelpTool\"},{\"attributes\":{\"below\":[{\"id\":\"b9cfe209-d981-461a-92d3-44c100908c36\",\"type\":\"LinearAxis\"}],\"left\":[{\"id\":\"c07e76fc-3c61-4945-ad8b-df27b49dc4a2\",\"type\":\"LinearAxis\"}],\"plot_height\":400,\"plot_width\":400,\"renderers\":[{\"id\":\"b9cfe209-d981-461a-92d3-44c100908c36\",\"type\":\"LinearAxis\"},{\"id\":\"fcb284dd-034c-45a1-b104-78b69af03c34\",\"type\":\"Grid\"},{\"id\":\"c07e76fc-3c61-4945-ad8b-df27b49dc4a2\",\"type\":\"LinearAxis\"},{\"id\":\"30b91ac6-eba2-4b0d-bfec-e5574fc81090\",\"type\":\"Grid\"},{\"id\":\"1fc39d65-b8ea-49f2-9903-2a65d1e025b2\",\"type\":\"BoxAnnotation\"},{\"id\":\"0515a1f0-b4f7-499f-baa0-68c24a889d41\",\"type\":\"GlyphRenderer\"}],\"title\":{\"id\":\"f507339b-c87b-473f-9117-96d963147952\",\"type\":\"Title\"},\"toolbar\":{\"id\":\"a57328b4-1c84-4b1b-a561-b9b788b7d54a\",\"type\":\"Toolbar\"},\"x_range\":{\"id\":\"679eb2f2-f0a4-45e4-a7f3-da43a9673307\",\"type\":\"DataRange1d\"},\"x_scale\":{\"id\":\"8f2bc543-f6e8-488f-931d-6a17d5faf127\",\"type\":\"LinearScale\"},\"y_range\":{\"id\":\"c52b360b-8acc-4976-8fc8-9571a6723d91\",\"type\":\"DataRange1d\"},\"y_scale\":{\"id\":\"98110b46-a892-4e84-aaa8-f63ba795a28f\",\"type\":\"LinearScale\"}},\"id\":\"40603b91-830e-4797-a50d-c1428fcf4056\",\"subtype\":\"Figure\",\"type\":\"Plot\"},{\"attributes\":{},\"id\":\"41c72ff1-d410-4ac2-8bb0-e4692b676b69\",\"type\":\"PanTool\"},{\"attributes\":{\"overlay\":{\"id\":\"1fc39d65-b8ea-49f2-9903-2a65d1e025b2\",\"type\":\"BoxAnnotation\"}},\"id\":\"1d8e4a35-832c-4528-a51d-c2fcbc909074\",\"type\":\"BoxZoomTool\"},{\"attributes\":{\"callback\":null,\"data\":{\"x\":[1,2,3,4,5],\"y\":[2,5,8,2,7]},\"selected\":{\"id\":\"6ab4cabb-4435-46c8-9298-0e13916a188c\",\"type\":\"Selection\"},\"selection_policy\":{\"id\":\"65174af7-e3f3-4927-af0e-95df0b307a9a\",\"type\":\"UnionRenderers\"}},\"id\":\"90ea3291-0b0d-4411-9528-f20368eed665\",\"type\":\"ColumnDataSource\"},{\"attributes\":{\"fill_alpha\":{\"value\":0.7},\"fill_color\":{\"value\":\"#1f77b4\"},\"line_color\":{\"value\":\"firebrick\"},\"line_dash\":[5,1],\"line_width\":{\"value\":2},\"size\":{\"units\":\"screen\",\"value\":50},\"x\":{\"field\":\"x\"},\"y\":{\"field\":\"y\"}},\"id\":\"3f17b04b-26e9-455b-a172-358914f762f4\",\"type\":\"Circle\"},{\"attributes\":{\"source\":{\"id\":\"90ea3291-0b0d-4411-9528-f20368eed665\",\"type\":\"ColumnDataSource\"}},\"id\":\"fb985c8f-8e24-4ce4-887a-d848a2e44e56\",\"type\":\"CDSView\"},{\"attributes\":{\"active_drag\":\"auto\",\"active_inspect\":\"auto\",\"active_scroll\":\"auto\",\"active_tap\":\"auto\",\"tools\":[{\"id\":\"41c72ff1-d410-4ac2-8bb0-e4692b676b69\",\"type\":\"PanTool\"},{\"id\":\"b6510909-9c27-4fd3-bdcf-21b70e88d644\",\"type\":\"WheelZoomTool\"},{\"id\":\"1d8e4a35-832c-4528-a51d-c2fcbc909074\",\"type\":\"BoxZoomTool\"},{\"id\":\"786fc34a-5f15-4bda-bd22-49e8105fc735\",\"type\":\"SaveTool\"},{\"id\":\"18646b2a-e19f-424b-8f82-e37af1e33bf8\",\"type\":\"ResetTool\"},{\"id\":\"c3254bbb-f5c4-404d-9c46-68835685ab04\",\"type\":\"HelpTool\"}]},\"id\":\"a57328b4-1c84-4b1b-a561-b9b788b7d54a\",\"type\":\"Toolbar\"},{\"attributes\":{},\"id\":\"786fc34a-5f15-4bda-bd22-49e8105fc735\",\"type\":\"SaveTool\"},{\"attributes\":{\"fill_alpha\":{\"value\":0.1},\"fill_color\":{\"value\":\"#1f77b4\"},\"line_alpha\":{\"value\":0.1},\"line_color\":{\"value\":\"#1f77b4\"},\"x\":{\"field\":\"x\"},\"y\":{\"field\":\"y\"}},\"id\":\"d2c6da21-0108-4605-993d-e2d71aaa6ebe\",\"type\":\"Circle\"},{\"attributes\":{},\"id\":\"18646b2a-e19f-424b-8f82-e37af1e33bf8\",\"type\":\"ResetTool\"},{\"attributes\":{\"bottom_units\":\"screen\",\"fill_alpha\":{\"value\":0.5},\"fill_color\":{\"value\":\"lightgrey\"},\"left_units\":\"screen\",\"level\":\"overlay\",\"line_alpha\":{\"value\":1.0},\"line_color\":{\"value\":\"black\"},\"line_dash\":[4,4],\"line_width\":{\"value\":2},\"plot\":null,\"render_mode\":\"css\",\"right_units\":\"screen\",\"top_units\":\"screen\"},\"id\":\"1fc39d65-b8ea-49f2-9903-2a65d1e025b2\",\"type\":\"BoxAnnotation\"},{\"attributes\":{\"data_source\":{\"id\":\"90ea3291-0b0d-4411-9528-f20368eed665\",\"type\":\"ColumnDataSource\"},\"glyph\":{\"id\":\"3f17b04b-26e9-455b-a172-358914f762f4\",\"type\":\"Circle\"},\"hover_glyph\":null,\"muted_glyph\":null,\"nonselection_glyph\":{\"id\":\"d2c6da21-0108-4605-993d-e2d71aaa6ebe\",\"type\":\"Circle\"},\"selection_glyph\":null,\"view\":{\"id\":\"fb985c8f-8e24-4ce4-887a-d848a2e44e56\",\"type\":\"CDSView\"}},\"id\":\"0515a1f0-b4f7-499f-baa0-68c24a889d41\",\"type\":\"GlyphRenderer\"},{\"attributes\":{\"callback\":null},\"id\":\"679eb2f2-f0a4-45e4-a7f3-da43a9673307\",\"type\":\"DataRange1d\"},{\"attributes\":{\"dimension\":1,\"plot\":{\"id\":\"40603b91-830e-4797-a50d-c1428fcf4056\",\"subtype\":\"Figure\",\"type\":\"Plot\"},\"ticker\":{\"id\":\"f1028ff9-f6ae-4e54-842d-0e03a7751f13\",\"type\":\"BasicTicker\"}},\"id\":\"30b91ac6-eba2-4b0d-bfec-e5574fc81090\",\"type\":\"Grid\"},{\"attributes\":{},\"id\":\"6ab4cabb-4435-46c8-9298-0e13916a188c\",\"type\":\"Selection\"},{\"attributes\":{\"callback\":null},\"id\":\"c52b360b-8acc-4976-8fc8-9571a6723d91\",\"type\":\"DataRange1d\"},{\"attributes\":{\"formatter\":{\"id\":\"821f771d-c6a2-41b6-8a3b-13744dccc003\",\"type\":\"BasicTickFormatter\"},\"plot\":{\"id\":\"40603b91-830e-4797-a50d-c1428fcf4056\",\"subtype\":\"Figure\",\"type\":\"Plot\"},\"ticker\":{\"id\":\"f1028ff9-f6ae-4e54-842d-0e03a7751f13\",\"type\":\"BasicTicker\"}},\"id\":\"c07e76fc-3c61-4945-ad8b-df27b49dc4a2\",\"type\":\"LinearAxis\"},{\"attributes\":{},\"id\":\"98110b46-a892-4e84-aaa8-f63ba795a28f\",\"type\":\"LinearScale\"},{\"attributes\":{\"plot\":null,\"text\":\"\"},\"id\":\"f507339b-c87b-473f-9117-96d963147952\",\"type\":\"Title\"},{\"attributes\":{},\"id\":\"8f2bc543-f6e8-488f-931d-6a17d5faf127\",\"type\":\"LinearScale\"},{\"attributes\":{},\"id\":\"0b888dd1-e91e-46e3-8dbd-729a3577636c\",\"type\":\"BasicTickFormatter\"},{\"attributes\":{\"formatter\":{\"id\":\"0b888dd1-e91e-46e3-8dbd-729a3577636c\",\"type\":\"BasicTickFormatter\"},\"plot\":{\"id\":\"40603b91-830e-4797-a50d-c1428fcf4056\",\"subtype\":\"Figure\",\"type\":\"Plot\"},\"ticker\":{\"id\":\"121da6cf-9342-452d-ab6d-ba0edec929ac\",\"type\":\"BasicTicker\"}},\"id\":\"b9cfe209-d981-461a-92d3-44c100908c36\",\"type\":\"LinearAxis\"}],\"root_ids\":[\"40603b91-830e-4797-a50d-c1428fcf4056\"]},\"title\":\"Bokeh Application\",\"version\":\"0.12.16\"}};\n",
       "  var render_items = [{\"docid\":\"a09f8c45-97fc-4591-b342-396a9e6154a2\",\"elementid\":\"d7e94f4e-a2b4-417e-b74a-94b218ea11ed\",\"modelid\":\"40603b91-830e-4797-a50d-c1428fcf4056\"}];\n",
       "  root.Bokeh.embed.embed_items_notebook(docs_json, render_items);\n",
       "\n",
       "  }\n",
       "  if (root.Bokeh !== undefined) {\n",
       "    embed_document(root);\n",
       "  } else {\n",
       "    var attempts = 0;\n",
       "    var timer = setInterval(function(root) {\n",
       "      if (root.Bokeh !== undefined) {\n",
       "        embed_document(root);\n",
       "        clearInterval(timer);\n",
       "      }\n",
       "      attempts++;\n",
       "      if (attempts > 100) {\n",
       "        console.log(\"Bokeh: ERROR: Unable to run BokehJS code because BokehJS library is missing\")\n",
       "        clearInterval(timer);\n",
       "      }\n",
       "    }, 10, root)\n",
       "  }\n",
       "})(window);"
      ],
      "application/vnd.bokehjs_exec.v0+json": ""
     },
     "metadata": {
      "application/vnd.bokehjs_exec.v0+json": {
       "id": "40603b91-830e-4797-a50d-c1428fcf4056"
      }
     },
     "output_type": "display_data"
    }
   ],
   "source": [
    "p = figure(plot_width=400, plot_height=400)\n",
    "\n",
    "# keep a reference to the returned GlyphRenderer\n",
    "r = p.circle([1,2,3,4,5], [2,5,8,2,7])\n",
    "\n",
    "r.glyph.size = 50\n",
    "r.glyph.fill_alpha = 0.2\n",
    "r.glyph.line_color = \"firebrick\"\n",
    "r.glyph.line_dash = [5, 1]\n",
    "r.glyph.line_width = 2\n",
    "\n",
    "show(p)"
   ]
  },
  {
   "cell_type": "markdown",
   "metadata": {},
   "source": [
    "### Selection and non-selection visuals\n",
    "\n",
    "You can also control how glyphs look when there are selections involved. The set of \"selected\" points is displayed according to the optional `.selection_glyph` property of a `GlyphRenderer`:\n",
    "```python\n",
    "r.selection_glyph = Circle(fill_alpha=1, fill_color=\"firebrick\", line_color=None) \n",
    "```\n",
    "When there is a non-empty selection, the set of \"unselected: points is displayed according to the optional  `.nonselection_glyph` property of a `GlyphRenderer`:\n",
    "```python\n",
    "r.nonselection_glyph = Circle(fill_alpha=0.2, fill_color=\"grey\", line_color=None) \n",
    "```\n",
    "\n",
    "When using the `bokeh.plotting` interface, it is easier to pass these visual properties to the glyph methods as shown below. The glyph method will create the selection or nonselection glyphs and attach them to the renderer for you. "
   ]
  },
  {
   "cell_type": "code",
   "execution_count": 6,
   "metadata": {},
   "outputs": [
    {
     "data": {
      "text/html": [
       "\n",
       "<div class=\"bk-root\">\n",
       "    <div class=\"bk-plotdiv\" id=\"f800fb6c-35a5-4ae7-98a4-4f6304a98eda\"></div>\n",
       "</div>"
      ]
     },
     "metadata": {},
     "output_type": "display_data"
    },
    {
     "data": {
      "application/javascript": [
       "(function(root) {\n",
       "  function embed_document(root) {\n",
       "    \n",
       "  var docs_json = {\"8b5b3d8d-0cdb-4655-8b7a-7cc1afea914e\":{\"roots\":{\"references\":[{\"attributes\":{\"formatter\":{\"id\":\"1cc49f9d-5c24-49be-9515-3fc709a3d6ae\",\"type\":\"BasicTickFormatter\"},\"plot\":{\"id\":\"bab1b75c-171b-4be1-b0a8-db039b68657c\",\"subtype\":\"Figure\",\"type\":\"Plot\"},\"ticker\":{\"id\":\"859d4afb-493e-4aa0-b688-782debfb7d41\",\"type\":\"BasicTicker\"}},\"id\":\"4db78141-5429-4399-9b08-d190769e3c79\",\"type\":\"LinearAxis\"},{\"attributes\":{},\"id\":\"1cc49f9d-5c24-49be-9515-3fc709a3d6ae\",\"type\":\"BasicTickFormatter\"},{\"attributes\":{\"fill_color\":{\"value\":\"firebrick\"},\"line_color\":{\"value\":\"firebrick\"},\"size\":{\"units\":\"screen\",\"value\":50},\"x\":{\"field\":\"x\"},\"y\":{\"field\":\"y\"}},\"id\":\"f801d23a-be67-4c25-8255-af56bac5c9cd\",\"type\":\"Circle\"},{\"attributes\":{},\"id\":\"eda8f148-20c1-488c-a911-acdb60de4591\",\"type\":\"LinearScale\"},{\"attributes\":{\"source\":{\"id\":\"178db619-d4c8-416e-a86f-cc9534e86d49\",\"type\":\"ColumnDataSource\"}},\"id\":\"c46c48e8-d12e-4d5e-b5e8-b108a7ca3bc8\",\"type\":\"CDSView\"},{\"attributes\":{\"plot\":null,\"text\":\"Select a circle\"},\"id\":\"c08679fb-dc7c-4a82-841d-a8b67b333f5e\",\"type\":\"Title\"},{\"attributes\":{\"callback\":null},\"id\":\"78482f1f-abb3-4e75-a4fa-0785bbcecae4\",\"type\":\"TapTool\"},{\"attributes\":{},\"id\":\"859d4afb-493e-4aa0-b688-782debfb7d41\",\"type\":\"BasicTicker\"},{\"attributes\":{\"data_source\":{\"id\":\"178db619-d4c8-416e-a86f-cc9534e86d49\",\"type\":\"ColumnDataSource\"},\"glyph\":{\"id\":\"1e8d8de8-dfaf-4074-a392-489b098dcd18\",\"type\":\"Circle\"},\"hover_glyph\":null,\"muted_glyph\":null,\"nonselection_glyph\":{\"id\":\"fc343304-6459-48aa-920d-db4aaeea40a1\",\"type\":\"Circle\"},\"selection_glyph\":{\"id\":\"f801d23a-be67-4c25-8255-af56bac5c9cd\",\"type\":\"Circle\"},\"view\":{\"id\":\"c46c48e8-d12e-4d5e-b5e8-b108a7ca3bc8\",\"type\":\"CDSView\"}},\"id\":\"7b50d87f-e521-48e4-81fb-f7d921571612\",\"type\":\"GlyphRenderer\"},{\"attributes\":{},\"id\":\"f9403f42-ff90-4e85-8a7a-8d8b0d739479\",\"type\":\"BasicTicker\"},{\"attributes\":{\"dimension\":1,\"plot\":{\"id\":\"bab1b75c-171b-4be1-b0a8-db039b68657c\",\"subtype\":\"Figure\",\"type\":\"Plot\"},\"ticker\":{\"id\":\"f9403f42-ff90-4e85-8a7a-8d8b0d739479\",\"type\":\"BasicTicker\"}},\"id\":\"f6b8d2de-0e5d-45cb-bdb1-ea7f2db4d143\",\"type\":\"Grid\"},{\"attributes\":{\"active_drag\":\"auto\",\"active_inspect\":\"auto\",\"active_scroll\":\"auto\",\"active_tap\":\"auto\",\"tools\":[{\"id\":\"78482f1f-abb3-4e75-a4fa-0785bbcecae4\",\"type\":\"TapTool\"}]},\"id\":\"38e1892b-595b-48fc-aaf0-25fa1da29d26\",\"type\":\"Toolbar\"},{\"attributes\":{\"plot\":{\"id\":\"bab1b75c-171b-4be1-b0a8-db039b68657c\",\"subtype\":\"Figure\",\"type\":\"Plot\"},\"ticker\":{\"id\":\"859d4afb-493e-4aa0-b688-782debfb7d41\",\"type\":\"BasicTicker\"}},\"id\":\"3c63e70f-e428-484d-83f7-1100921ce161\",\"type\":\"Grid\"},{\"attributes\":{\"below\":[{\"id\":\"4db78141-5429-4399-9b08-d190769e3c79\",\"type\":\"LinearAxis\"}],\"left\":[{\"id\":\"3a298fa1-3cd9-40c2-b266-8ef41fa9a097\",\"type\":\"LinearAxis\"}],\"plot_height\":400,\"plot_width\":400,\"renderers\":[{\"id\":\"4db78141-5429-4399-9b08-d190769e3c79\",\"type\":\"LinearAxis\"},{\"id\":\"3c63e70f-e428-484d-83f7-1100921ce161\",\"type\":\"Grid\"},{\"id\":\"3a298fa1-3cd9-40c2-b266-8ef41fa9a097\",\"type\":\"LinearAxis\"},{\"id\":\"f6b8d2de-0e5d-45cb-bdb1-ea7f2db4d143\",\"type\":\"Grid\"},{\"id\":\"7b50d87f-e521-48e4-81fb-f7d921571612\",\"type\":\"GlyphRenderer\"}],\"title\":{\"id\":\"c08679fb-dc7c-4a82-841d-a8b67b333f5e\",\"type\":\"Title\"},\"toolbar\":{\"id\":\"38e1892b-595b-48fc-aaf0-25fa1da29d26\",\"type\":\"Toolbar\"},\"x_range\":{\"id\":\"6104aa8d-c9fd-4d09-bf2c-55712c0e48cb\",\"type\":\"DataRange1d\"},\"x_scale\":{\"id\":\"16224389-e6c7-48e9-8c7b-142ff23cbf88\",\"type\":\"LinearScale\"},\"y_range\":{\"id\":\"226fa395-8674-48b3-8907-88cbbca58d39\",\"type\":\"DataRange1d\"},\"y_scale\":{\"id\":\"eda8f148-20c1-488c-a911-acdb60de4591\",\"type\":\"LinearScale\"}},\"id\":\"bab1b75c-171b-4be1-b0a8-db039b68657c\",\"subtype\":\"Figure\",\"type\":\"Plot\"},{\"attributes\":{\"formatter\":{\"id\":\"144fe6fd-4370-4af5-aec2-b1130ae7f685\",\"type\":\"BasicTickFormatter\"},\"plot\":{\"id\":\"bab1b75c-171b-4be1-b0a8-db039b68657c\",\"subtype\":\"Figure\",\"type\":\"Plot\"},\"ticker\":{\"id\":\"f9403f42-ff90-4e85-8a7a-8d8b0d739479\",\"type\":\"BasicTicker\"}},\"id\":\"3a298fa1-3cd9-40c2-b266-8ef41fa9a097\",\"type\":\"LinearAxis\"},{\"attributes\":{\"fill_color\":{\"value\":\"#1f77b4\"},\"line_color\":{\"value\":\"#1f77b4\"},\"size\":{\"units\":\"screen\",\"value\":50},\"x\":{\"field\":\"x\"},\"y\":{\"field\":\"y\"}},\"id\":\"1e8d8de8-dfaf-4074-a392-489b098dcd18\",\"type\":\"Circle\"},{\"attributes\":{},\"id\":\"16224389-e6c7-48e9-8c7b-142ff23cbf88\",\"type\":\"LinearScale\"},{\"attributes\":{\"fill_alpha\":{\"value\":0.2},\"fill_color\":{\"value\":\"grey\"},\"line_color\":{\"value\":\"firebrick\"},\"size\":{\"units\":\"screen\",\"value\":50},\"x\":{\"field\":\"x\"},\"y\":{\"field\":\"y\"}},\"id\":\"fc343304-6459-48aa-920d-db4aaeea40a1\",\"type\":\"Circle\"},{\"attributes\":{\"callback\":null,\"data\":{\"x\":[1,2,3,4,5],\"y\":[2,5,8,2,7]},\"selected\":{\"id\":\"6d2916c4-01f0-4265-a1c6-5e3945c1452e\",\"type\":\"Selection\"},\"selection_policy\":{\"id\":\"79dc5da0-2f99-47ef-b863-41d180b5a54d\",\"type\":\"UnionRenderers\"}},\"id\":\"178db619-d4c8-416e-a86f-cc9534e86d49\",\"type\":\"ColumnDataSource\"},{\"attributes\":{},\"id\":\"6d2916c4-01f0-4265-a1c6-5e3945c1452e\",\"type\":\"Selection\"},{\"attributes\":{},\"id\":\"144fe6fd-4370-4af5-aec2-b1130ae7f685\",\"type\":\"BasicTickFormatter\"},{\"attributes\":{\"callback\":null},\"id\":\"6104aa8d-c9fd-4d09-bf2c-55712c0e48cb\",\"type\":\"DataRange1d\"},{\"attributes\":{},\"id\":\"79dc5da0-2f99-47ef-b863-41d180b5a54d\",\"type\":\"UnionRenderers\"},{\"attributes\":{\"callback\":null},\"id\":\"226fa395-8674-48b3-8907-88cbbca58d39\",\"type\":\"DataRange1d\"}],\"root_ids\":[\"bab1b75c-171b-4be1-b0a8-db039b68657c\"]},\"title\":\"Bokeh Application\",\"version\":\"0.12.16\"}};\n",
       "  var render_items = [{\"docid\":\"8b5b3d8d-0cdb-4655-8b7a-7cc1afea914e\",\"elementid\":\"f800fb6c-35a5-4ae7-98a4-4f6304a98eda\",\"modelid\":\"bab1b75c-171b-4be1-b0a8-db039b68657c\"}];\n",
       "  root.Bokeh.embed.embed_items_notebook(docs_json, render_items);\n",
       "\n",
       "  }\n",
       "  if (root.Bokeh !== undefined) {\n",
       "    embed_document(root);\n",
       "  } else {\n",
       "    var attempts = 0;\n",
       "    var timer = setInterval(function(root) {\n",
       "      if (root.Bokeh !== undefined) {\n",
       "        embed_document(root);\n",
       "        clearInterval(timer);\n",
       "      }\n",
       "      attempts++;\n",
       "      if (attempts > 100) {\n",
       "        console.log(\"Bokeh: ERROR: Unable to run BokehJS code because BokehJS library is missing\")\n",
       "        clearInterval(timer);\n",
       "      }\n",
       "    }, 10, root)\n",
       "  }\n",
       "})(window);"
      ],
      "application/vnd.bokehjs_exec.v0+json": ""
     },
     "metadata": {
      "application/vnd.bokehjs_exec.v0+json": {
       "id": "bab1b75c-171b-4be1-b0a8-db039b68657c"
      }
     },
     "output_type": "display_data"
    }
   ],
   "source": [
    "p = figure(plot_width=400, plot_height=400, tools=\"tap\", title=\"Select a circle\")\n",
    "renderer = p.circle([1, 2, 3, 4, 5], [2, 5, 8, 2, 7], size=50,\n",
    "\n",
    "                    # set visual properties for selected glyphs\n",
    "                    selection_color=\"firebrick\",\n",
    "\n",
    "                    # set visual properties for non-selected glyphs\n",
    "                    nonselection_fill_alpha=0.2,\n",
    "                    nonselection_fill_color=\"grey\",\n",
    "                    nonselection_line_color=\"firebrick\",\n",
    "                    nonselection_line_alpha=1.0)\n",
    "\n",
    "show(p)"
   ]
  },
  {
   "cell_type": "markdown",
   "metadata": {},
   "source": [
    "It is also possible to specify the visual appearance of glyphs when they are \"inspected\", e.g. by a hover tool. This is accomplished by setting an optional `hover_glyph` on the glyph renderer:\n",
    "```python\n",
    "r.hover_glyph = Circle(fill_alpha=1, fill_color=\"firebrick\", line_color=None) \n",
    "```\n",
    "Or if using `bokeh.plotting` glyph methods, by passing `hover_fill_alpha`, etc. to the glyph method. Lets look at an example that works together with a `HoverTool` configured for \"hline\" hit-testing."
   ]
  },
  {
   "cell_type": "code",
   "execution_count": 19,
   "metadata": {},
   "outputs": [
    {
     "data": {
      "text/html": [
       "\n",
       "<div class=\"bk-root\">\n",
       "    <div class=\"bk-plotdiv\" id=\"54ba648f-02ae-417c-b5bd-0e810b5ac654\"></div>\n",
       "</div>"
      ]
     },
     "metadata": {},
     "output_type": "display_data"
    },
    {
     "data": {
      "application/javascript": [
       "(function(root) {\n",
       "  function embed_document(root) {\n",
       "    \n",
       "  var docs_json = {\"27edd170-3d94-49e8-90e5-7b734829c5b2\":{\"roots\":{\"references\":[{\"attributes\":{\"plot\":null,\"text\":\"Hover over points\"},\"id\":\"54cbb2eb-cc31-4c60-8ec7-5a98bebb9275\",\"type\":\"Title\"},{\"attributes\":{\"months\":[0,1,2,3,4,5,6,7,8,9,10,11]},\"id\":\"781508bd-a995-40ef-904b-dec272f2cbe6\",\"type\":\"MonthsTicker\"},{\"attributes\":{\"callback\":null},\"id\":\"ea680648-8df9-4834-b769-05a6d63bf170\",\"type\":\"DataRange1d\"},{\"attributes\":{\"months\":[0,2,4,6,8,10]},\"id\":\"4bf5a93a-f682-44d8-871f-65f5900dd83a\",\"type\":\"MonthsTicker\"},{\"attributes\":{\"active_drag\":\"auto\",\"active_inspect\":\"auto\",\"active_scroll\":\"auto\",\"active_tap\":\"auto\",\"tools\":[{\"id\":\"41dc07c5-6cc6-47f6-aeb3-e46d46e71ba0\",\"type\":\"PanTool\"},{\"id\":\"5b7fc03d-a19d-48b5-9145-6b80b77c44a5\",\"type\":\"WheelZoomTool\"},{\"id\":\"3796ef0e-2419-4531-a1c1-e50caf4901f7\",\"type\":\"BoxZoomTool\"},{\"id\":\"10ace2a7-1d67-4669-9136-5bb25488fadb\",\"type\":\"SaveTool\"},{\"id\":\"415bdd5c-405b-4a88-afba-7c1565ae6c86\",\"type\":\"ResetTool\"},{\"id\":\"db4fe74b-c4cd-4def-80ab-4afd8c253313\",\"type\":\"HelpTool\"},{\"id\":\"e101947b-53b6-4998-ab42-f22c6087feb9\",\"type\":\"HoverTool\"}]},\"id\":\"0fc2bab0-4ca3-4109-b3d6-9ad6e05f90f6\",\"type\":\"Toolbar\"},{\"attributes\":{\"months\":[0,4,8]},\"id\":\"f72841a7-d453-4b4a-aa70-681fb0b39997\",\"type\":\"MonthsTicker\"},{\"attributes\":{\"fill_alpha\":{\"value\":0.05},\"fill_color\":{\"value\":\"grey\"},\"line_color\":{\"value\":null},\"size\":{\"units\":\"screen\",\"value\":20},\"x\":{\"field\":\"x\"},\"y\":{\"field\":\"y\"}},\"id\":\"345b95e9-b157-4523-b20e-42966d3e6a84\",\"type\":\"Circle\"},{\"attributes\":{\"months\":[0,6]},\"id\":\"e39e937c-06d0-46c8-85aa-0f47e408e8df\",\"type\":\"MonthsTicker\"},{\"attributes\":{},\"id\":\"a85ec630-dabc-47c2-b7ee-ddc85266b9ec\",\"type\":\"LinearScale\"},{\"attributes\":{\"callback\":null},\"id\":\"b65c8d53-9b3e-4ed9-8a7b-b18042f68347\",\"type\":\"DataRange1d\"},{\"attributes\":{\"callback\":null,\"data\":{\"x\":{\"__ndarray__\":\"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\",\"dtype\":\"float64\",\"shape\":[288]},\"y\":[143,147,150,152,152,152,154,155,142,140,138,134,131,130,128,127,126,126,126,126,127,129,131,132,134,136,136,136,136,135,134,132,130,130,130,129,128,127,125,124,123,123,122,121,120,118,115,112,111,111,110,110,109,108,107,107,107,108,107,105,105,105,105,104,103,102,99,97,96,94,94,93,93,92,91,92,94,95,96,97,99,102,104,112,112,112,111,110,107,104,105,105,103,99,96,94,95,102,114,128,144,160,173,185,196,205,209,214,219,226,234,241,248,255,260,265,268,270,272,271,271,268,265,261,256,253,250,246,244,241,237,233,229,225,222,204,200,197,193,190,186,182,179,175,171,168,164,158,154,151,148,145,141,133,139,152,173,196,217,233,244,249,250,253,256,260,263,265,265,264,260,254,246,234,217,200,188,181,175,169,164,159,154,147,138,132,129,127,123,117,111,106,104,103,100,94,88,83,78,75,73,71,69,68,67,67,68,70,71,71,70,69,68,67,67,67,66,67,69,71,74,76,78,80,80,80,80,80,80,82,84,87,90,92,87,87,86,86,86,86,87,87,87,85,83,82,83,87,95,107,118,130,141,149,172,179,187,201,214,221,225,230,232,230,223,216,208,199,191,185,181,177,176,177,176,173,171,169,163,154,152,153,154,154,153,151,150,150]},\"selected\":{\"id\":\"9b75241c-a2bb-4a44-a566-2dd09d4ee829\",\"type\":\"Selection\"},\"selection_policy\":{\"id\":\"df982869-1f75-4f13-9ac6-3420395f23ad\",\"type\":\"UnionRenderers\"}},\"id\":\"280f77b1-c8d4-49a3-bfe5-d31f110bfcea\",\"type\":\"ColumnDataSource\"},{\"attributes\":{\"days\":[1,8,15,22]},\"id\":\"89630c30-5699-40cf-993b-5bb175f0ec2e\",\"type\":\"DaysTicker\"},{\"attributes\":{},\"id\":\"330874cf-ea8a-483a-bf1f-ecc7d5ae128e\",\"type\":\"LinearScale\"},{\"attributes\":{},\"id\":\"4666efd7-9f57-4009-a208-f91bf7c2bbf1\",\"type\":\"YearsTicker\"},{\"attributes\":{\"callback\":null,\"data\":{\"x\":{\"__ndarray__\":\"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\",\"dtype\":\"float64\",\"shape\":[288]},\"y\":[143,147,150,152,152,152,154,155,142,140,138,134,131,130,128,127,126,126,126,126,127,129,131,132,134,136,136,136,136,135,134,132,130,130,130,129,128,127,125,124,123,123,122,121,120,118,115,112,111,111,110,110,109,108,107,107,107,108,107,105,105,105,105,104,103,102,99,97,96,94,94,93,93,92,91,92,94,95,96,97,99,102,104,112,112,112,111,110,107,104,105,105,103,99,96,94,95,102,114,128,144,160,173,185,196,205,209,214,219,226,234,241,248,255,260,265,268,270,272,271,271,268,265,261,256,253,250,246,244,241,237,233,229,225,222,204,200,197,193,190,186,182,179,175,171,168,164,158,154,151,148,145,141,133,139,152,173,196,217,233,244,249,250,253,256,260,263,265,265,264,260,254,246,234,217,200,188,181,175,169,164,159,154,147,138,132,129,127,123,117,111,106,104,103,100,94,88,83,78,75,73,71,69,68,67,67,68,70,71,71,70,69,68,67,67,67,66,67,69,71,74,76,78,80,80,80,80,80,80,82,84,87,90,92,87,87,86,86,86,86,87,87,87,85,83,82,83,87,95,107,118,130,141,149,172,179,187,201,214,221,225,230,232,230,223,216,208,199,191,185,181,177,176,177,176,173,171,169,163,154,152,153,154,154,153,151,150,150]},\"selected\":{\"id\":\"9dfb5846-f542-4203-89ae-033aaaf74e36\",\"type\":\"Selection\"},\"selection_policy\":{\"id\":\"7abd476f-72c6-4daf-8772-d7ee94e31372\",\"type\":\"UnionRenderers\"}},\"id\":\"4572f4fd-e9b9-40b2-963c-4901e4dea55d\",\"type\":\"ColumnDataSource\"},{\"attributes\":{\"plot\":{\"id\":\"8e89686a-9fdd-46bc-bf84-32ca0d05c6c5\",\"subtype\":\"Figure\",\"type\":\"Plot\"},\"ticker\":{\"id\":\"ead9c3b8-6c7d-4f29-b78b-216581f3405e\",\"type\":\"DatetimeTicker\"}},\"id\":\"90f6f742-f0fa-4884-bea7-247bb4371edd\",\"type\":\"Grid\"},{\"attributes\":{},\"id\":\"9dfb5846-f542-4203-89ae-033aaaf74e36\",\"type\":\"Selection\"},{\"attributes\":{\"formatter\":{\"id\":\"30b899e6-b22e-41ba-9016-14f016696025\",\"type\":\"DatetimeTickFormatter\"},\"plot\":{\"id\":\"8e89686a-9fdd-46bc-bf84-32ca0d05c6c5\",\"subtype\":\"Figure\",\"type\":\"Plot\"},\"ticker\":{\"id\":\"ead9c3b8-6c7d-4f29-b78b-216581f3405e\",\"type\":\"DatetimeTicker\"}},\"id\":\"a46fd146-d64a-4f1d-bc98-2758cb6aead6\",\"type\":\"DatetimeAxis\"},{\"attributes\":{},\"id\":\"7abd476f-72c6-4daf-8772-d7ee94e31372\",\"type\":\"UnionRenderers\"},{\"attributes\":{\"data_source\":{\"id\":\"4572f4fd-e9b9-40b2-963c-4901e4dea55d\",\"type\":\"ColumnDataSource\"},\"glyph\":{\"id\":\"97a43f80-1825-423d-b400-951740371998\",\"type\":\"Line\"},\"hover_glyph\":null,\"muted_glyph\":null,\"nonselection_glyph\":{\"id\":\"996a7e64-fc3f-4455-b504-955f8a6808c0\",\"type\":\"Line\"},\"selection_glyph\":null,\"view\":{\"id\":\"74acae08-a6d5-4914-a86c-1a5bbc7b426d\",\"type\":\"CDSView\"}},\"id\":\"6e830529-c826-4556-a6bc-456e6a1e6309\",\"type\":\"GlyphRenderer\"},{\"attributes\":{\"num_minor_ticks\":5,\"tickers\":[{\"id\":\"446d394a-7d52-4130-85e9-34b1641630ac\",\"type\":\"AdaptiveTicker\"},{\"id\":\"75ca0552-60ab-4fea-859d-718b8359cd6a\",\"type\":\"AdaptiveTicker\"},{\"id\":\"14a3d7ce-adf4-4bee-8a96-98d393120c75\",\"type\":\"AdaptiveTicker\"},{\"id\":\"dd852d7a-2d8b-4503-95b5-357c6331bf5f\",\"type\":\"DaysTicker\"},{\"id\":\"4eada46e-48ab-4cda-a845-06c458d2b474\",\"type\":\"DaysTicker\"},{\"id\":\"89630c30-5699-40cf-993b-5bb175f0ec2e\",\"type\":\"DaysTicker\"},{\"id\":\"6ae2cb9a-ed38-41f4-a03f-1df994744126\",\"type\":\"DaysTicker\"},{\"id\":\"781508bd-a995-40ef-904b-dec272f2cbe6\",\"type\":\"MonthsTicker\"},{\"id\":\"4bf5a93a-f682-44d8-871f-65f5900dd83a\",\"type\":\"MonthsTicker\"},{\"id\":\"f72841a7-d453-4b4a-aa70-681fb0b39997\",\"type\":\"MonthsTicker\"},{\"id\":\"e39e937c-06d0-46c8-85aa-0f47e408e8df\",\"type\":\"MonthsTicker\"},{\"id\":\"4666efd7-9f57-4009-a208-f91bf7c2bbf1\",\"type\":\"YearsTicker\"}]},\"id\":\"ead9c3b8-6c7d-4f29-b78b-216581f3405e\",\"type\":\"DatetimeTicker\"},{\"attributes\":{},\"id\":\"9b75241c-a2bb-4a44-a566-2dd09d4ee829\",\"type\":\"Selection\"},{\"attributes\":{\"formatter\":{\"id\":\"b0a51f9f-54e9-4e30-9fd5-0933a8413e9d\",\"type\":\"BasicTickFormatter\"},\"plot\":{\"id\":\"8e89686a-9fdd-46bc-bf84-32ca0d05c6c5\",\"subtype\":\"Figure\",\"type\":\"Plot\"},\"ticker\":{\"id\":\"1512c8fb-8da5-4363-a893-8ba23406e9bd\",\"type\":\"BasicTicker\"}},\"id\":\"adc324f8-9064-4811-abfb-2034216c397a\",\"type\":\"LinearAxis\"},{\"attributes\":{},\"id\":\"df982869-1f75-4f13-9ac6-3420395f23ad\",\"type\":\"UnionRenderers\"},{\"attributes\":{},\"id\":\"1512c8fb-8da5-4363-a893-8ba23406e9bd\",\"type\":\"BasicTicker\"},{\"attributes\":{\"dimension\":1,\"plot\":{\"id\":\"8e89686a-9fdd-46bc-bf84-32ca0d05c6c5\",\"subtype\":\"Figure\",\"type\":\"Plot\"},\"ticker\":{\"id\":\"1512c8fb-8da5-4363-a893-8ba23406e9bd\",\"type\":\"BasicTicker\"}},\"id\":\"aa710355-a087-438e-bd8a-fd2cdc72a5ba\",\"type\":\"Grid\"},{\"attributes\":{\"callback\":null,\"mode\":\"hline\",\"renderers\":[{\"id\":\"c8f3703d-fe22-41e8-9abf-564a73e14f29\",\"type\":\"GlyphRenderer\"}],\"tooltips\":null},\"id\":\"e101947b-53b6-4998-ab42-f22c6087feb9\",\"type\":\"HoverTool\"},{\"attributes\":{\"source\":{\"id\":\"4572f4fd-e9b9-40b2-963c-4901e4dea55d\",\"type\":\"ColumnDataSource\"}},\"id\":\"74acae08-a6d5-4914-a86c-1a5bbc7b426d\",\"type\":\"CDSView\"},{\"attributes\":{},\"id\":\"b0a51f9f-54e9-4e30-9fd5-0933a8413e9d\",\"type\":\"BasicTickFormatter\"},{\"attributes\":{\"bottom_units\":\"screen\",\"fill_alpha\":{\"value\":0.5},\"fill_color\":{\"value\":\"lightgrey\"},\"left_units\":\"screen\",\"level\":\"overlay\",\"line_alpha\":{\"value\":1.0},\"line_color\":{\"value\":\"black\"},\"line_dash\":[4,4],\"line_width\":{\"value\":2},\"plot\":null,\"render_mode\":\"css\",\"right_units\":\"screen\",\"top_units\":\"screen\"},\"id\":\"538fa08b-a474-4fb0-b106-91ecc07379d2\",\"type\":\"BoxAnnotation\"},{\"attributes\":{},\"id\":\"41dc07c5-6cc6-47f6-aeb3-e46d46e71ba0\",\"type\":\"PanTool\"},{\"attributes\":{\"fill_alpha\":{\"value\":0.1},\"fill_color\":{\"value\":\"#1f77b4\"},\"line_alpha\":{\"value\":0.1},\"line_color\":{\"value\":\"#1f77b4\"},\"size\":{\"units\":\"screen\",\"value\":20},\"x\":{\"field\":\"x\"},\"y\":{\"field\":\"y\"}},\"id\":\"ad79b06f-a81c-45a4-8db3-f14dd996c44e\",\"type\":\"Circle\"},{\"attributes\":{},\"id\":\"5b7fc03d-a19d-48b5-9145-6b80b77c44a5\",\"type\":\"WheelZoomTool\"},{\"attributes\":{\"overlay\":{\"id\":\"538fa08b-a474-4fb0-b106-91ecc07379d2\",\"type\":\"BoxAnnotation\"}},\"id\":\"3796ef0e-2419-4531-a1c1-e50caf4901f7\",\"type\":\"BoxZoomTool\"},{\"attributes\":{},\"id\":\"10ace2a7-1d67-4669-9136-5bb25488fadb\",\"type\":\"SaveTool\"},{\"attributes\":{},\"id\":\"415bdd5c-405b-4a88-afba-7c1565ae6c86\",\"type\":\"ResetTool\"},{\"attributes\":{},\"id\":\"db4fe74b-c4cd-4def-80ab-4afd8c253313\",\"type\":\"HelpTool\"},{\"attributes\":{\"source\":{\"id\":\"280f77b1-c8d4-49a3-bfe5-d31f110bfcea\",\"type\":\"ColumnDataSource\"}},\"id\":\"081bff7f-da58-4d1d-87d1-530a4f4da63a\",\"type\":\"CDSView\"},{\"attributes\":{\"fill_alpha\":{\"value\":0.3},\"fill_color\":{\"value\":\"firebrick\"},\"line_alpha\":{\"value\":0.3},\"line_color\":{\"value\":\"white\"},\"size\":{\"units\":\"screen\",\"value\":20},\"x\":{\"field\":\"x\"},\"y\":{\"field\":\"y\"}},\"id\":\"53b5d993-9f2e-4565-a732-6ed435400e80\",\"type\":\"Circle\"},{\"attributes\":{\"data_source\":{\"id\":\"280f77b1-c8d4-49a3-bfe5-d31f110bfcea\",\"type\":\"ColumnDataSource\"},\"glyph\":{\"id\":\"345b95e9-b157-4523-b20e-42966d3e6a84\",\"type\":\"Circle\"},\"hover_glyph\":{\"id\":\"53b5d993-9f2e-4565-a732-6ed435400e80\",\"type\":\"Circle\"},\"muted_glyph\":null,\"nonselection_glyph\":{\"id\":\"ad79b06f-a81c-45a4-8db3-f14dd996c44e\",\"type\":\"Circle\"},\"selection_glyph\":null,\"view\":{\"id\":\"081bff7f-da58-4d1d-87d1-530a4f4da63a\",\"type\":\"CDSView\"}},\"id\":\"c8f3703d-fe22-41e8-9abf-564a73e14f29\",\"type\":\"GlyphRenderer\"},{\"attributes\":{\"below\":[{\"id\":\"a46fd146-d64a-4f1d-bc98-2758cb6aead6\",\"type\":\"DatetimeAxis\"}],\"left\":[{\"id\":\"adc324f8-9064-4811-abfb-2034216c397a\",\"type\":\"LinearAxis\"}],\"plot_height\":300,\"renderers\":[{\"id\":\"a46fd146-d64a-4f1d-bc98-2758cb6aead6\",\"type\":\"DatetimeAxis\"},{\"id\":\"90f6f742-f0fa-4884-bea7-247bb4371edd\",\"type\":\"Grid\"},{\"id\":\"adc324f8-9064-4811-abfb-2034216c397a\",\"type\":\"LinearAxis\"},{\"id\":\"aa710355-a087-438e-bd8a-fd2cdc72a5ba\",\"type\":\"Grid\"},{\"id\":\"538fa08b-a474-4fb0-b106-91ecc07379d2\",\"type\":\"BoxAnnotation\"},{\"id\":\"6e830529-c826-4556-a6bc-456e6a1e6309\",\"type\":\"GlyphRenderer\"},{\"id\":\"c8f3703d-fe22-41e8-9abf-564a73e14f29\",\"type\":\"GlyphRenderer\"}],\"title\":{\"id\":\"54cbb2eb-cc31-4c60-8ec7-5a98bebb9275\",\"type\":\"Title\"},\"toolbar\":{\"id\":\"0fc2bab0-4ca3-4109-b3d6-9ad6e05f90f6\",\"type\":\"Toolbar\"},\"x_range\":{\"id\":\"ea680648-8df9-4834-b769-05a6d63bf170\",\"type\":\"DataRange1d\"},\"x_scale\":{\"id\":\"a85ec630-dabc-47c2-b7ee-ddc85266b9ec\",\"type\":\"LinearScale\"},\"y_range\":{\"id\":\"b65c8d53-9b3e-4ed9-8a7b-b18042f68347\",\"type\":\"DataRange1d\"},\"y_scale\":{\"id\":\"330874cf-ea8a-483a-bf1f-ecc7d5ae128e\",\"type\":\"LinearScale\"}},\"id\":\"8e89686a-9fdd-46bc-bf84-32ca0d05c6c5\",\"subtype\":\"Figure\",\"type\":\"Plot\"},{\"attributes\":{\"line_color\":\"gray\",\"line_dash\":[4,4],\"x\":{\"field\":\"x\"},\"y\":{\"field\":\"y\"}},\"id\":\"97a43f80-1825-423d-b400-951740371998\",\"type\":\"Line\"},{\"attributes\":{\"days\":[1,15]},\"id\":\"6ae2cb9a-ed38-41f4-a03f-1df994744126\",\"type\":\"DaysTicker\"},{\"attributes\":{\"line_alpha\":0.1,\"line_color\":\"#1f77b4\",\"line_dash\":[4,4],\"x\":{\"field\":\"x\"},\"y\":{\"field\":\"y\"}},\"id\":\"996a7e64-fc3f-4455-b504-955f8a6808c0\",\"type\":\"Line\"},{\"attributes\":{\"mantissas\":[1,2,5],\"max_interval\":500.0,\"num_minor_ticks\":0},\"id\":\"446d394a-7d52-4130-85e9-34b1641630ac\",\"type\":\"AdaptiveTicker\"},{\"attributes\":{\"days\":[1,4,7,10,13,16,19,22,25,28]},\"id\":\"4eada46e-48ab-4cda-a845-06c458d2b474\",\"type\":\"DaysTicker\"},{\"attributes\":{},\"id\":\"30b899e6-b22e-41ba-9016-14f016696025\",\"type\":\"DatetimeTickFormatter\"},{\"attributes\":{\"days\":[1,2,3,4,5,6,7,8,9,10,11,12,13,14,15,16,17,18,19,20,21,22,23,24,25,26,27,28,29,30,31]},\"id\":\"dd852d7a-2d8b-4503-95b5-357c6331bf5f\",\"type\":\"DaysTicker\"},{\"attributes\":{\"base\":24,\"mantissas\":[1,2,4,6,8,12],\"max_interval\":43200000.0,\"min_interval\":3600000.0,\"num_minor_ticks\":0},\"id\":\"14a3d7ce-adf4-4bee-8a96-98d393120c75\",\"type\":\"AdaptiveTicker\"},{\"attributes\":{\"base\":60,\"mantissas\":[1,2,5,10,15,20,30],\"max_interval\":1800000.0,\"min_interval\":1000.0,\"num_minor_ticks\":0},\"id\":\"75ca0552-60ab-4fea-859d-718b8359cd6a\",\"type\":\"AdaptiveTicker\"}],\"root_ids\":[\"8e89686a-9fdd-46bc-bf84-32ca0d05c6c5\"]},\"title\":\"Bokeh Application\",\"version\":\"0.12.16\"}};\n",
       "  var render_items = [{\"docid\":\"27edd170-3d94-49e8-90e5-7b734829c5b2\",\"elementid\":\"54ba648f-02ae-417c-b5bd-0e810b5ac654\",\"modelid\":\"8e89686a-9fdd-46bc-bf84-32ca0d05c6c5\"}];\n",
       "  root.Bokeh.embed.embed_items_notebook(docs_json, render_items);\n",
       "\n",
       "  }\n",
       "  if (root.Bokeh !== undefined) {\n",
       "    embed_document(root);\n",
       "  } else {\n",
       "    var attempts = 0;\n",
       "    var timer = setInterval(function(root) {\n",
       "      if (root.Bokeh !== undefined) {\n",
       "        embed_document(root);\n",
       "        clearInterval(timer);\n",
       "      }\n",
       "      attempts++;\n",
       "      if (attempts > 100) {\n",
       "        console.log(\"Bokeh: ERROR: Unable to run BokehJS code because BokehJS library is missing\")\n",
       "        clearInterval(timer);\n",
       "      }\n",
       "    }, 10, root)\n",
       "  }\n",
       "})(window);"
      ],
      "application/vnd.bokehjs_exec.v0+json": ""
     },
     "metadata": {
      "application/vnd.bokehjs_exec.v0+json": {
       "id": "8e89686a-9fdd-46bc-bf84-32ca0d05c6c5"
      }
     },
     "output_type": "display_data"
    }
   ],
   "source": [
    "from bokeh.models.tools import HoverTool\n",
    "from bokeh.sampledata.glucose import data\n",
    "\n",
    "subset = data.loc['2010-10-06']\n",
    "\n",
    "x, y = subset.index.to_series(), subset['glucose']\n",
    "\n",
    "# Basic plot setup\n",
    "p = figure(width=600, height=300, x_axis_type=\"datetime\", title='Hover over points')\n",
    "\n",
    "p.line(x, y, line_dash=\"4 4\", line_width=1, color='gray')\n",
    "\n",
    "cr = p.circle(x, y, size=20,\n",
    "              fill_color=\"grey\", hover_fill_color=\"firebrick\",\n",
    "              fill_alpha=0.05, hover_alpha=0.3,\n",
    "              line_color=None, hover_line_color=\"white\")\n",
    "\n",
    "p.add_tools(HoverTool(tooltips=None, renderers=[cr], mode='hline'))\n",
    "\n",
    "show(p)"
   ]
  },
  {
   "cell_type": "code",
   "execution_count": 8,
   "metadata": {},
   "outputs": [],
   "source": [
    "# EXERCISE: experiment with standard, selected, hover glyph visual properties\n"
   ]
  },
  {
   "cell_type": "markdown",
   "metadata": {},
   "source": [
    "# Axes\n",
    "\n",
    "Next we will take a look at [stlying of Axes](http://bokeh.pydata.org/en/latest/docs/user_guide/styling.html#axes).\n",
    "\n",
    "To style axes, you first must get ahold of `Axis` objects. The simplest way is to use some convenience methods on `Plot`: [axis](http://bokeh.pydata.org/en/latest/docs/reference/plotting.html#bokeh.plotting.Figure.axis), [xaxis](http://bokeh.pydata.org/en/latest/docs/reference/plotting.html#bokeh.plotting.Figure.xaxis), and [yaxis](http://bokeh.pydata.org/en/latest/docs/reference/plotting.html#bokeh.plotting.Figure.yaxis). These methods return lists of axis objects:\n",
    "\n",
    "```\n",
    ">>> p.xaxis\n",
    "[<bokeh.models.axes.LinearAxis at 0x106fa2390>]\n",
    "```\n",
    "However, you can set properties on all the elements of the list as if it was a single object:\n",
    "```\n",
    "p.xaxis.axis_label = \"Temperature\"\n",
    "p.axis.major_label_text_color = \"orange\"\n",
    "```\n",
    "These are referred to as \"splattable\" lists, and tab completion works on them as well. \n"
   ]
  },
  {
   "cell_type": "code",
   "execution_count": 9,
   "metadata": {},
   "outputs": [],
   "source": [
    "# EXERCISE Try out tab completion. Type p.xaxis.<press tab key> to see a list of attributes that can be set.\n",
    "\n"
   ]
  },
  {
   "cell_type": "markdown",
   "metadata": {},
   "source": [
    "## Axis properties\n",
    "\n",
    "Axes objects have many configurable properties that afford control over most visual aspects of an axis. These can be grouped by function according to prefix:\n",
    "\n",
    "* **axis**  [line properties](http://bokeh.pydata.org/en/latest/docs/user_guide/styling.html#line-properties) e.g `axis_line_width`\n",
    "\n",
    "* **axis_label** [text properties](http://bokeh.pydata.org/en/latest/docs/user_guide/styling.html#text-properties)  e.g. `axis_label_text_color`, as well as ``axis_label_standoff``\n",
    "\n",
    "* **major_label** [text properties](http://bokeh.pydata.org/en/latest/docs/user_guide/styling.html#text-properties) e.g. `major_label_text_font_size`, as well as ``major_label_orientation``\n",
    "\n",
    "* **major_tick** [line_properties](http://bokeh.pydata.org/en/latest/docs/user_guide/styling.html#line-properties) e.g. `major_tick_line_dash`, as well as  ``major_tick_in`` and ``major_tick_out``\n",
    "\n",
    "* **minor_tick** [line properties](http://bokeh.pydata.org/en/latest/docs/user_guide/styling.html#line-properties) e.g. `minor_tick_line_width`, as well as ``minor_tick_in`` and ``minor_tick_out``\n",
    "\n",
    "As a simple first case, let's change the orientation of the major tick labels on both axes of a plot:"
   ]
  },
  {
   "cell_type": "code",
   "execution_count": 20,
   "metadata": {},
   "outputs": [
    {
     "data": {
      "text/html": [
       "\n",
       "<div class=\"bk-root\">\n",
       "    <div class=\"bk-plotdiv\" id=\"d6531a7a-096c-4ce3-a3ea-b4845ebe937d\"></div>\n",
       "</div>"
      ]
     },
     "metadata": {},
     "output_type": "display_data"
    },
    {
     "data": {
      "application/javascript": [
       "(function(root) {\n",
       "  function embed_document(root) {\n",
       "    \n",
       "  var docs_json = {\"e78f49d1-1ecd-4e30-a76a-e5a9aa76998d\":{\"roots\":{\"references\":[{\"attributes\":{},\"id\":\"07db7cd4-7799-4c26-a1bc-237af434d7cb\",\"type\":\"LinearScale\"},{\"attributes\":{\"formatter\":{\"id\":\"e3fa20b7-606a-4d38-8449-e4683605ac9c\",\"type\":\"BasicTickFormatter\"},\"major_label_orientation\":0.7853981633974483,\"plot\":{\"id\":\"7a150139-31b7-41c8-ac55-cf251ddf3c63\",\"subtype\":\"Figure\",\"type\":\"Plot\"},\"ticker\":{\"id\":\"a2054234-84e6-4c59-9de8-83f4b83fea39\",\"type\":\"BasicTicker\"}},\"id\":\"56339213-ec8b-4969-8ba4-395d947d04dc\",\"type\":\"LinearAxis\"},{\"attributes\":{\"plot\":{\"id\":\"7a150139-31b7-41c8-ac55-cf251ddf3c63\",\"subtype\":\"Figure\",\"type\":\"Plot\"},\"ticker\":{\"id\":\"a2054234-84e6-4c59-9de8-83f4b83fea39\",\"type\":\"BasicTicker\"}},\"id\":\"b64d409a-fdbc-40bc-a745-d59260c0f12d\",\"type\":\"Grid\"},{\"attributes\":{},\"id\":\"71f4ae55-ea14-4d62-bceb-effd8930c7ed\",\"type\":\"UnionRenderers\"},{\"attributes\":{\"callback\":null},\"id\":\"99be2504-5201-4b33-b0ff-04e3c6d340d6\",\"type\":\"DataRange1d\"},{\"attributes\":{\"below\":[{\"id\":\"56339213-ec8b-4969-8ba4-395d947d04dc\",\"type\":\"LinearAxis\"}],\"left\":[{\"id\":\"7aa5c572-268b-4997-bd33-0c60f4826d0a\",\"type\":\"LinearAxis\"}],\"plot_height\":400,\"plot_width\":400,\"renderers\":[{\"id\":\"56339213-ec8b-4969-8ba4-395d947d04dc\",\"type\":\"LinearAxis\"},{\"id\":\"b64d409a-fdbc-40bc-a745-d59260c0f12d\",\"type\":\"Grid\"},{\"id\":\"7aa5c572-268b-4997-bd33-0c60f4826d0a\",\"type\":\"LinearAxis\"},{\"id\":\"638581a0-164f-441d-a536-cb79301d6ce9\",\"type\":\"Grid\"},{\"id\":\"624d992f-5e86-437d-97f3-7b83ed9b6913\",\"type\":\"BoxAnnotation\"},{\"id\":\"9c2cf206-0c35-463d-81b5-af771fbcec09\",\"type\":\"GlyphRenderer\"}],\"title\":{\"id\":\"6ec24769-fc63-4373-afa5-48b2e43ea0e4\",\"type\":\"Title\"},\"toolbar\":{\"id\":\"05b2b8b4-80bd-4113-ad53-cca806bbc56f\",\"type\":\"Toolbar\"},\"x_range\":{\"id\":\"99be2504-5201-4b33-b0ff-04e3c6d340d6\",\"type\":\"DataRange1d\"},\"x_scale\":{\"id\":\"07db7cd4-7799-4c26-a1bc-237af434d7cb\",\"type\":\"LinearScale\"},\"y_range\":{\"id\":\"b6974b63-fc62-4064-9a0a-0766e02ac230\",\"type\":\"DataRange1d\"},\"y_scale\":{\"id\":\"4cc7670d-29d8-4db8-a5e5-c05af2dc3428\",\"type\":\"LinearScale\"}},\"id\":\"7a150139-31b7-41c8-ac55-cf251ddf3c63\",\"subtype\":\"Figure\",\"type\":\"Plot\"},{\"attributes\":{},\"id\":\"a2054234-84e6-4c59-9de8-83f4b83fea39\",\"type\":\"BasicTicker\"},{\"attributes\":{},\"id\":\"4cc7670d-29d8-4db8-a5e5-c05af2dc3428\",\"type\":\"LinearScale\"},{\"attributes\":{},\"id\":\"9f00da6a-a1c1-41c3-8c65-a245310a1823\",\"type\":\"ResetTool\"},{\"attributes\":{},\"id\":\"2a507e95-fc42-4703-8ea0-d5e36adf3da6\",\"type\":\"BasicTicker\"},{\"attributes\":{\"data_source\":{\"id\":\"c4870b96-8905-427c-bcc1-259c8556617d\",\"type\":\"ColumnDataSource\"},\"glyph\":{\"id\":\"dd317bf0-743f-4a5b-b4d9-389d07b1483a\",\"type\":\"X\"},\"hover_glyph\":null,\"muted_glyph\":null,\"nonselection_glyph\":{\"id\":\"9c8367d6-4c8a-4fa9-9c4f-0427d9ebe247\",\"type\":\"X\"},\"selection_glyph\":null,\"view\":{\"id\":\"33d31fbc-3d9c-4a16-904b-4ae979dc64b6\",\"type\":\"CDSView\"}},\"id\":\"9c2cf206-0c35-463d-81b5-af771fbcec09\",\"type\":\"GlyphRenderer\"},{\"attributes\":{},\"id\":\"df024241-fdec-47af-8dc2-95e20ee2d7ba\",\"type\":\"Selection\"},{\"attributes\":{\"callback\":null,\"data\":{\"x\":[1,2,3,4,5],\"y\":[2,5,8,2,7]},\"selected\":{\"id\":\"df024241-fdec-47af-8dc2-95e20ee2d7ba\",\"type\":\"Selection\"},\"selection_policy\":{\"id\":\"71f4ae55-ea14-4d62-bceb-effd8930c7ed\",\"type\":\"UnionRenderers\"}},\"id\":\"c4870b96-8905-427c-bcc1-259c8556617d\",\"type\":\"ColumnDataSource\"},{\"attributes\":{},\"id\":\"b026c91d-c4e5-4fe5-bcde-ecf68381c217\",\"type\":\"HelpTool\"},{\"attributes\":{\"overlay\":{\"id\":\"624d992f-5e86-437d-97f3-7b83ed9b6913\",\"type\":\"BoxAnnotation\"}},\"id\":\"38802f70-323a-4937-b3d6-1bc47bacc59b\",\"type\":\"BoxZoomTool\"},{\"attributes\":{},\"id\":\"e3fa20b7-606a-4d38-8449-e4683605ac9c\",\"type\":\"BasicTickFormatter\"},{\"attributes\":{},\"id\":\"97eaada2-a67b-414e-ae50-49f85a660e7b\",\"type\":\"WheelZoomTool\"},{\"attributes\":{\"formatter\":{\"id\":\"9839b012-bf39-4142-81a1-f6ced0fbcd39\",\"type\":\"BasicTickFormatter\"},\"major_label_orientation\":\"vertical\",\"plot\":{\"id\":\"7a150139-31b7-41c8-ac55-cf251ddf3c63\",\"subtype\":\"Figure\",\"type\":\"Plot\"},\"ticker\":{\"id\":\"2a507e95-fc42-4703-8ea0-d5e36adf3da6\",\"type\":\"BasicTicker\"}},\"id\":\"7aa5c572-268b-4997-bd33-0c60f4826d0a\",\"type\":\"LinearAxis\"},{\"attributes\":{},\"id\":\"a6da82eb-c871-4cab-a311-16feee5125c9\",\"type\":\"PanTool\"},{\"attributes\":{},\"id\":\"9839b012-bf39-4142-81a1-f6ced0fbcd39\",\"type\":\"BasicTickFormatter\"},{\"attributes\":{\"source\":{\"id\":\"c4870b96-8905-427c-bcc1-259c8556617d\",\"type\":\"ColumnDataSource\"}},\"id\":\"33d31fbc-3d9c-4a16-904b-4ae979dc64b6\",\"type\":\"CDSView\"},{\"attributes\":{\"plot\":null,\"text\":\"\"},\"id\":\"6ec24769-fc63-4373-afa5-48b2e43ea0e4\",\"type\":\"Title\"},{\"attributes\":{},\"id\":\"07eab673-a777-4498-8129-ce331a122077\",\"type\":\"SaveTool\"},{\"attributes\":{\"bottom_units\":\"screen\",\"fill_alpha\":{\"value\":0.5},\"fill_color\":{\"value\":\"lightgrey\"},\"left_units\":\"screen\",\"level\":\"overlay\",\"line_alpha\":{\"value\":1.0},\"line_color\":{\"value\":\"black\"},\"line_dash\":[4,4],\"line_width\":{\"value\":2},\"plot\":null,\"render_mode\":\"css\",\"right_units\":\"screen\",\"top_units\":\"screen\"},\"id\":\"624d992f-5e86-437d-97f3-7b83ed9b6913\",\"type\":\"BoxAnnotation\"},{\"attributes\":{\"fill_color\":{\"value\":\"#1f77b4\"},\"line_color\":{\"value\":\"#1f77b4\"},\"line_width\":{\"value\":2},\"size\":{\"units\":\"screen\",\"value\":10},\"x\":{\"field\":\"x\"},\"y\":{\"field\":\"y\"}},\"id\":\"dd317bf0-743f-4a5b-b4d9-389d07b1483a\",\"type\":\"X\"},{\"attributes\":{\"callback\":null},\"id\":\"b6974b63-fc62-4064-9a0a-0766e02ac230\",\"type\":\"DataRange1d\"},{\"attributes\":{\"active_drag\":\"auto\",\"active_inspect\":\"auto\",\"active_scroll\":\"auto\",\"active_tap\":\"auto\",\"tools\":[{\"id\":\"a6da82eb-c871-4cab-a311-16feee5125c9\",\"type\":\"PanTool\"},{\"id\":\"97eaada2-a67b-414e-ae50-49f85a660e7b\",\"type\":\"WheelZoomTool\"},{\"id\":\"38802f70-323a-4937-b3d6-1bc47bacc59b\",\"type\":\"BoxZoomTool\"},{\"id\":\"07eab673-a777-4498-8129-ce331a122077\",\"type\":\"SaveTool\"},{\"id\":\"9f00da6a-a1c1-41c3-8c65-a245310a1823\",\"type\":\"ResetTool\"},{\"id\":\"b026c91d-c4e5-4fe5-bcde-ecf68381c217\",\"type\":\"HelpTool\"}]},\"id\":\"05b2b8b4-80bd-4113-ad53-cca806bbc56f\",\"type\":\"Toolbar\"},{\"attributes\":{\"dimension\":1,\"plot\":{\"id\":\"7a150139-31b7-41c8-ac55-cf251ddf3c63\",\"subtype\":\"Figure\",\"type\":\"Plot\"},\"ticker\":{\"id\":\"2a507e95-fc42-4703-8ea0-d5e36adf3da6\",\"type\":\"BasicTicker\"}},\"id\":\"638581a0-164f-441d-a536-cb79301d6ce9\",\"type\":\"Grid\"},{\"attributes\":{\"fill_alpha\":{\"value\":0.1},\"fill_color\":{\"value\":\"#1f77b4\"},\"line_alpha\":{\"value\":0.1},\"line_color\":{\"value\":\"#1f77b4\"},\"line_width\":{\"value\":2},\"size\":{\"units\":\"screen\",\"value\":10},\"x\":{\"field\":\"x\"},\"y\":{\"field\":\"y\"}},\"id\":\"9c8367d6-4c8a-4fa9-9c4f-0427d9ebe247\",\"type\":\"X\"}],\"root_ids\":[\"7a150139-31b7-41c8-ac55-cf251ddf3c63\"]},\"title\":\"Bokeh Application\",\"version\":\"0.12.16\"}};\n",
       "  var render_items = [{\"docid\":\"e78f49d1-1ecd-4e30-a76a-e5a9aa76998d\",\"elementid\":\"d6531a7a-096c-4ce3-a3ea-b4845ebe937d\",\"modelid\":\"7a150139-31b7-41c8-ac55-cf251ddf3c63\"}];\n",
       "  root.Bokeh.embed.embed_items_notebook(docs_json, render_items);\n",
       "\n",
       "  }\n",
       "  if (root.Bokeh !== undefined) {\n",
       "    embed_document(root);\n",
       "  } else {\n",
       "    var attempts = 0;\n",
       "    var timer = setInterval(function(root) {\n",
       "      if (root.Bokeh !== undefined) {\n",
       "        embed_document(root);\n",
       "        clearInterval(timer);\n",
       "      }\n",
       "      attempts++;\n",
       "      if (attempts > 100) {\n",
       "        console.log(\"Bokeh: ERROR: Unable to run BokehJS code because BokehJS library is missing\")\n",
       "        clearInterval(timer);\n",
       "      }\n",
       "    }, 10, root)\n",
       "  }\n",
       "})(window);"
      ],
      "application/vnd.bokehjs_exec.v0+json": ""
     },
     "metadata": {
      "application/vnd.bokehjs_exec.v0+json": {
       "id": "7a150139-31b7-41c8-ac55-cf251ddf3c63"
      }
     },
     "output_type": "display_data"
    }
   ],
   "source": [
    "from math import pi\n",
    "\n",
    "p = figure(plot_width=400, plot_height=400)\n",
    "p.x([1,2,3,4,5], [2,5,8,2,7], size=10, line_width=2)\n",
    "\n",
    "p.xaxis.major_label_orientation = pi/4\n",
    "p.yaxis.major_label_orientation = \"vertical\"\n",
    "\n",
    "show(p)"
   ]
  },
  {
   "cell_type": "markdown",
   "metadata": {},
   "source": [
    "The next example shows customizations on several of the different Axis properties at once:"
   ]
  },
  {
   "cell_type": "code",
   "execution_count": 21,
   "metadata": {},
   "outputs": [
    {
     "data": {
      "text/html": [
       "\n",
       "<div class=\"bk-root\">\n",
       "    <div class=\"bk-plotdiv\" id=\"1cf42918-b1bc-479a-a07f-ec7e9cb7a3ec\"></div>\n",
       "</div>"
      ]
     },
     "metadata": {},
     "output_type": "display_data"
    },
    {
     "data": {
      "application/javascript": [
       "(function(root) {\n",
       "  function embed_document(root) {\n",
       "    \n",
       "  var docs_json = {\"4a3e63a8-6fca-463e-ba81-3286f3e85f28\":{\"roots\":{\"references\":[{\"attributes\":{\"fill_color\":{\"value\":\"olive\"},\"line_color\":{\"value\":\"olive\"},\"size\":{\"units\":\"screen\",\"value\":12},\"x\":{\"field\":\"x\"},\"y\":{\"field\":\"y\"}},\"id\":\"749efe38-5b03-4488-a4c8-ef1879d5af5a\",\"type\":\"Asterisk\"},{\"attributes\":{},\"id\":\"0c18aadf-26cd-470f-9f24-ea6d9a2dbfd5\",\"type\":\"WheelZoomTool\"},{\"attributes\":{\"overlay\":{\"id\":\"0bece583-bff8-4fa1-8944-f750db832973\",\"type\":\"BoxAnnotation\"}},\"id\":\"aa629cd1-e32d-445b-852f-bb1578177da2\",\"type\":\"BoxZoomTool\"},{\"attributes\":{},\"id\":\"14454a32-9a7f-41d7-8dd2-13b5ab58dda0\",\"type\":\"UnionRenderers\"},{\"attributes\":{\"callback\":null,\"data\":{\"x\":[1,2,3,4,5],\"y\":[2,5,8,2,7]},\"selected\":{\"id\":\"37b4aadd-2ffa-4e92-9dcf-96813203d742\",\"type\":\"Selection\"},\"selection_policy\":{\"id\":\"14454a32-9a7f-41d7-8dd2-13b5ab58dda0\",\"type\":\"UnionRenderers\"}},\"id\":\"005b6ef1-711e-4347-b4b1-0b08ff252329\",\"type\":\"ColumnDataSource\"},{\"attributes\":{\"callback\":null},\"id\":\"c57c0188-1919-4b07-ac14-4243e863afa4\",\"type\":\"DataRange1d\"},{\"attributes\":{},\"id\":\"3e99665c-99a3-40be-9219-90f6ee85e9aa\",\"type\":\"SaveTool\"},{\"attributes\":{\"plot\":null,\"text\":\"\"},\"id\":\"d55b4f4c-bbaf-4861-8bf1-7d41638996c2\",\"type\":\"Title\"},{\"attributes\":{},\"id\":\"6cf473bb-f8bd-4aed-8614-51264e9cf2e2\",\"type\":\"ResetTool\"},{\"attributes\":{},\"id\":\"722e633e-4254-4b52-a6b9-214fec7c5a48\",\"type\":\"BasicTickFormatter\"},{\"attributes\":{},\"id\":\"29e612d3-5079-42ff-9eeb-8005810e81de\",\"type\":\"HelpTool\"},{\"attributes\":{},\"id\":\"8ef4ec62-218f-413f-a4b1-002e50c377cc\",\"type\":\"LinearScale\"},{\"attributes\":{\"data_source\":{\"id\":\"005b6ef1-711e-4347-b4b1-0b08ff252329\",\"type\":\"ColumnDataSource\"},\"glyph\":{\"id\":\"749efe38-5b03-4488-a4c8-ef1879d5af5a\",\"type\":\"Asterisk\"},\"hover_glyph\":null,\"muted_glyph\":null,\"nonselection_glyph\":{\"id\":\"ddfc4177-2794-4ec9-b140-e751e5b47a43\",\"type\":\"Asterisk\"},\"selection_glyph\":null,\"view\":{\"id\":\"6d82f541-50ab-41f6-b5bd-2c5fbdca4bf9\",\"type\":\"CDSView\"}},\"id\":\"5bcfff09-c324-49b9-8340-7264f41fed85\",\"type\":\"GlyphRenderer\"},{\"attributes\":{\"plot\":{\"id\":\"1a48c902-ca72-4e5b-94b4-3757b07dbeba\",\"subtype\":\"Figure\",\"type\":\"Plot\"},\"ticker\":{\"id\":\"b425432f-922a-4999-976d-38a22524748b\",\"type\":\"BasicTicker\"}},\"id\":\"6a4b93b2-8cc0-4cb7-8904-4ffecc59fa57\",\"type\":\"Grid\"},{\"attributes\":{\"axis_label\":\"Temp\",\"axis_line_color\":{\"value\":\"red\"},\"axis_line_width\":{\"value\":3},\"formatter\":{\"id\":\"722e633e-4254-4b52-a6b9-214fec7c5a48\",\"type\":\"BasicTickFormatter\"},\"minor_tick_in\":-3,\"minor_tick_out\":6,\"plot\":{\"id\":\"1a48c902-ca72-4e5b-94b4-3757b07dbeba\",\"subtype\":\"Figure\",\"type\":\"Plot\"},\"ticker\":{\"id\":\"b425432f-922a-4999-976d-38a22524748b\",\"type\":\"BasicTicker\"}},\"id\":\"707a8cc0-a188-4437-a441-ac1d749f4830\",\"type\":\"LinearAxis\"},{\"attributes\":{},\"id\":\"b425432f-922a-4999-976d-38a22524748b\",\"type\":\"BasicTicker\"},{\"attributes\":{},\"id\":\"37b4aadd-2ffa-4e92-9dcf-96813203d742\",\"type\":\"Selection\"},{\"attributes\":{\"axis_label\":\"Pressure\",\"formatter\":{\"id\":\"efedfc86-fa06-49f8-9d60-b5bb66dcd522\",\"type\":\"BasicTickFormatter\"},\"major_label_orientation\":\"vertical\",\"major_label_text_color\":{\"value\":\"orange\"},\"minor_tick_in\":-3,\"minor_tick_out\":6,\"plot\":{\"id\":\"1a48c902-ca72-4e5b-94b4-3757b07dbeba\",\"subtype\":\"Figure\",\"type\":\"Plot\"},\"ticker\":{\"id\":\"5bad290d-396c-4e64-9b1f-c0fe631ce2c1\",\"type\":\"BasicTicker\"}},\"id\":\"b7a5f9a3-39e2-412f-8219-d6987dda1448\",\"type\":\"LinearAxis\"},{\"attributes\":{},\"id\":\"5bad290d-396c-4e64-9b1f-c0fe631ce2c1\",\"type\":\"BasicTicker\"},{\"attributes\":{\"dimension\":1,\"plot\":{\"id\":\"1a48c902-ca72-4e5b-94b4-3757b07dbeba\",\"subtype\":\"Figure\",\"type\":\"Plot\"},\"ticker\":{\"id\":\"5bad290d-396c-4e64-9b1f-c0fe631ce2c1\",\"type\":\"BasicTicker\"}},\"id\":\"58b48a8c-54b4-4f82-b6a9-e69af52a321b\",\"type\":\"Grid\"},{\"attributes\":{\"callback\":null},\"id\":\"3ce32055-87d7-4b64-b3e8-d4455df0a28f\",\"type\":\"DataRange1d\"},{\"attributes\":{\"source\":{\"id\":\"005b6ef1-711e-4347-b4b1-0b08ff252329\",\"type\":\"ColumnDataSource\"}},\"id\":\"6d82f541-50ab-41f6-b5bd-2c5fbdca4bf9\",\"type\":\"CDSView\"},{\"attributes\":{\"fill_alpha\":{\"value\":0.1},\"fill_color\":{\"value\":\"#1f77b4\"},\"line_alpha\":{\"value\":0.1},\"line_color\":{\"value\":\"#1f77b4\"},\"size\":{\"units\":\"screen\",\"value\":12},\"x\":{\"field\":\"x\"},\"y\":{\"field\":\"y\"}},\"id\":\"ddfc4177-2794-4ec9-b140-e751e5b47a43\",\"type\":\"Asterisk\"},{\"attributes\":{},\"id\":\"659125af-9c90-4a6b-8df9-a34115cdabca\",\"type\":\"LinearScale\"},{\"attributes\":{\"bottom_units\":\"screen\",\"fill_alpha\":{\"value\":0.5},\"fill_color\":{\"value\":\"lightgrey\"},\"left_units\":\"screen\",\"level\":\"overlay\",\"line_alpha\":{\"value\":1.0},\"line_color\":{\"value\":\"black\"},\"line_dash\":[4,4],\"line_width\":{\"value\":2},\"plot\":null,\"render_mode\":\"css\",\"right_units\":\"screen\",\"top_units\":\"screen\"},\"id\":\"0bece583-bff8-4fa1-8944-f750db832973\",\"type\":\"BoxAnnotation\"},{\"attributes\":{},\"id\":\"8add94fa-8c53-4509-afb5-2260642487a3\",\"type\":\"PanTool\"},{\"attributes\":{\"below\":[{\"id\":\"707a8cc0-a188-4437-a441-ac1d749f4830\",\"type\":\"LinearAxis\"}],\"left\":[{\"id\":\"b7a5f9a3-39e2-412f-8219-d6987dda1448\",\"type\":\"LinearAxis\"}],\"plot_height\":400,\"plot_width\":400,\"renderers\":[{\"id\":\"707a8cc0-a188-4437-a441-ac1d749f4830\",\"type\":\"LinearAxis\"},{\"id\":\"6a4b93b2-8cc0-4cb7-8904-4ffecc59fa57\",\"type\":\"Grid\"},{\"id\":\"b7a5f9a3-39e2-412f-8219-d6987dda1448\",\"type\":\"LinearAxis\"},{\"id\":\"58b48a8c-54b4-4f82-b6a9-e69af52a321b\",\"type\":\"Grid\"},{\"id\":\"0bece583-bff8-4fa1-8944-f750db832973\",\"type\":\"BoxAnnotation\"},{\"id\":\"5bcfff09-c324-49b9-8340-7264f41fed85\",\"type\":\"GlyphRenderer\"}],\"title\":{\"id\":\"d55b4f4c-bbaf-4861-8bf1-7d41638996c2\",\"type\":\"Title\"},\"toolbar\":{\"id\":\"002df00c-62f2-4618-a987-029831046506\",\"type\":\"Toolbar\"},\"x_range\":{\"id\":\"3ce32055-87d7-4b64-b3e8-d4455df0a28f\",\"type\":\"DataRange1d\"},\"x_scale\":{\"id\":\"659125af-9c90-4a6b-8df9-a34115cdabca\",\"type\":\"LinearScale\"},\"y_range\":{\"id\":\"c57c0188-1919-4b07-ac14-4243e863afa4\",\"type\":\"DataRange1d\"},\"y_scale\":{\"id\":\"8ef4ec62-218f-413f-a4b1-002e50c377cc\",\"type\":\"LinearScale\"}},\"id\":\"1a48c902-ca72-4e5b-94b4-3757b07dbeba\",\"subtype\":\"Figure\",\"type\":\"Plot\"},{\"attributes\":{\"active_drag\":\"auto\",\"active_inspect\":\"auto\",\"active_scroll\":\"auto\",\"active_tap\":\"auto\",\"tools\":[{\"id\":\"8add94fa-8c53-4509-afb5-2260642487a3\",\"type\":\"PanTool\"},{\"id\":\"0c18aadf-26cd-470f-9f24-ea6d9a2dbfd5\",\"type\":\"WheelZoomTool\"},{\"id\":\"aa629cd1-e32d-445b-852f-bb1578177da2\",\"type\":\"BoxZoomTool\"},{\"id\":\"3e99665c-99a3-40be-9219-90f6ee85e9aa\",\"type\":\"SaveTool\"},{\"id\":\"6cf473bb-f8bd-4aed-8614-51264e9cf2e2\",\"type\":\"ResetTool\"},{\"id\":\"29e612d3-5079-42ff-9eeb-8005810e81de\",\"type\":\"HelpTool\"}]},\"id\":\"002df00c-62f2-4618-a987-029831046506\",\"type\":\"Toolbar\"},{\"attributes\":{},\"id\":\"efedfc86-fa06-49f8-9d60-b5bb66dcd522\",\"type\":\"BasicTickFormatter\"}],\"root_ids\":[\"1a48c902-ca72-4e5b-94b4-3757b07dbeba\"]},\"title\":\"Bokeh Application\",\"version\":\"0.12.16\"}};\n",
       "  var render_items = [{\"docid\":\"4a3e63a8-6fca-463e-ba81-3286f3e85f28\",\"elementid\":\"1cf42918-b1bc-479a-a07f-ec7e9cb7a3ec\",\"modelid\":\"1a48c902-ca72-4e5b-94b4-3757b07dbeba\"}];\n",
       "  root.Bokeh.embed.embed_items_notebook(docs_json, render_items);\n",
       "\n",
       "  }\n",
       "  if (root.Bokeh !== undefined) {\n",
       "    embed_document(root);\n",
       "  } else {\n",
       "    var attempts = 0;\n",
       "    var timer = setInterval(function(root) {\n",
       "      if (root.Bokeh !== undefined) {\n",
       "        embed_document(root);\n",
       "        clearInterval(timer);\n",
       "      }\n",
       "      attempts++;\n",
       "      if (attempts > 100) {\n",
       "        console.log(\"Bokeh: ERROR: Unable to run BokehJS code because BokehJS library is missing\")\n",
       "        clearInterval(timer);\n",
       "      }\n",
       "    }, 10, root)\n",
       "  }\n",
       "})(window);"
      ],
      "application/vnd.bokehjs_exec.v0+json": ""
     },
     "metadata": {
      "application/vnd.bokehjs_exec.v0+json": {
       "id": "1a48c902-ca72-4e5b-94b4-3757b07dbeba"
      }
     },
     "output_type": "display_data"
    }
   ],
   "source": [
    "p = figure(plot_width=400, plot_height=400)\n",
    "p.asterisk([1,2,3,4,5], [2,5,8,2,7], size=12, color=\"olive\")\n",
    "\n",
    "# change just some things about the x-axes\n",
    "p.xaxis.axis_label = \"Temp\"\n",
    "p.xaxis.axis_line_width = 3\n",
    "p.xaxis.axis_line_color = \"red\"\n",
    "\n",
    "# change just some things about the y-axes\n",
    "p.yaxis.axis_label = \"Pressure\"\n",
    "p.yaxis.major_label_text_color = \"orange\"\n",
    "p.yaxis.major_label_orientation = \"vertical\"\n",
    "\n",
    "# change things on all axes\n",
    "p.axis.minor_tick_in = -3\n",
    "p.axis.minor_tick_out = 6\n",
    "\n",
    "show(p)"
   ]
  },
  {
   "cell_type": "code",
   "execution_count": 12,
   "metadata": {},
   "outputs": [],
   "source": [
    "# EXERCISE Create a plot of your own and customize several axis properties\n"
   ]
  },
  {
   "cell_type": "markdown",
   "metadata": {},
   "source": [
    "## Configuring tick labels\n",
    "\n",
    "All Bokeh axes have a `formatter` property, whose value is a `TickFormatter` object that Bokeh uses to format the ticks displayed by that axis. Bokeh will configure default tick formatters for numeric, datetime, or categotical axes. But often we would like to customize the appearance of tick labels. This can be accomplished by changing properties on the default formatter that Bokeh chooses, or by replacing the formatter with a new type entirely. \n",
    "\n",
    "Let's first look at changing the properties of a default formatter. The default datetime formatter is configure to show *month/day* when the axis is on the scale of days. If would like the also always show the year, we can change the `days` property to a format that includes the year, as done below. "
   ]
  },
  {
   "cell_type": "code",
   "execution_count": 22,
   "metadata": {},
   "outputs": [
    {
     "data": {
      "text/html": [
       "\n",
       "<div class=\"bk-root\">\n",
       "    <div class=\"bk-plotdiv\" id=\"5883405c-36c3-41ae-ae7a-c1656e2a72b7\"></div>\n",
       "</div>"
      ]
     },
     "metadata": {},
     "output_type": "display_data"
    },
    {
     "data": {
      "application/javascript": [
       "(function(root) {\n",
       "  function embed_document(root) {\n",
       "    \n",
       "  var docs_json = {\"fc48af95-610a-43f3-be08-fa75b3c46277\":{\"roots\":{\"references\":[{\"attributes\":{\"data_source\":{\"id\":\"b94707c5-f779-46b6-97cc-6298afc85165\",\"type\":\"ColumnDataSource\"},\"glyph\":{\"id\":\"20a6b658-5db5-4406-beae-8f66128f1ce4\",\"type\":\"Line\"},\"hover_glyph\":null,\"muted_glyph\":null,\"nonselection_glyph\":{\"id\":\"9aefd270-88bf-459a-b640-d1a11a372028\",\"type\":\"Line\"},\"selection_glyph\":null,\"view\":{\"id\":\"b4f55b94-623a-40f5-a55b-ff2138923157\",\"type\":\"CDSView\"}},\"id\":\"2f28180e-14ac-495c-a2d7-ebdf92387aa3\",\"type\":\"GlyphRenderer\"},{\"attributes\":{\"base\":60,\"mantissas\":[1,2,5,10,15,20,30],\"max_interval\":1800000.0,\"min_interval\":1000.0,\"num_minor_ticks\":0},\"id\":\"1c133a59-ce74-4086-a96f-f4621adf90b7\",\"type\":\"AdaptiveTicker\"},{\"attributes\":{\"months\":[0,1,2,3,4,5,6,7,8,9,10,11]},\"id\":\"80a502b1-f48f-4429-81d3-8286cab65d3f\",\"type\":\"MonthsTicker\"},{\"attributes\":{\"num_minor_ticks\":5,\"tickers\":[{\"id\":\"b02484b7-4af8-4a25-af81-1c1b8aafbf0a\",\"type\":\"AdaptiveTicker\"},{\"id\":\"1c133a59-ce74-4086-a96f-f4621adf90b7\",\"type\":\"AdaptiveTicker\"},{\"id\":\"8a6c9e6b-97bc-4148-9fe5-571d74b9eab6\",\"type\":\"AdaptiveTicker\"},{\"id\":\"5d40c8d1-978c-4b93-8d13-bb0a60907b3e\",\"type\":\"DaysTicker\"},{\"id\":\"27472881-bdba-40d2-8cd3-8b821e137c60\",\"type\":\"DaysTicker\"},{\"id\":\"3b6362e8-b872-497f-9f65-19abbf51fa92\",\"type\":\"DaysTicker\"},{\"id\":\"f53028f6-85b2-471c-9b76-7602733e7809\",\"type\":\"DaysTicker\"},{\"id\":\"80a502b1-f48f-4429-81d3-8286cab65d3f\",\"type\":\"MonthsTicker\"},{\"id\":\"078d0d4e-5e7f-4738-b85d-f50f25eb478d\",\"type\":\"MonthsTicker\"},{\"id\":\"5d40b1c1-fcf8-4cde-a4de-1b803621eabc\",\"type\":\"MonthsTicker\"},{\"id\":\"3c5951f3-2fff-4649-a8a7-8609049af9ad\",\"type\":\"MonthsTicker\"},{\"id\":\"b4cf4c18-523b-4580-b13c-046edfc363c7\",\"type\":\"YearsTicker\"}]},\"id\":\"f25d7514-356b-4af2-8bf3-8e2329a2ebce\",\"type\":\"DatetimeTicker\"},{\"attributes\":{},\"id\":\"e32603a6-ea2e-4092-bc65-a47abf45393d\",\"type\":\"LinearScale\"},{\"attributes\":{\"bottom_units\":\"screen\",\"fill_alpha\":{\"value\":0.5},\"fill_color\":{\"value\":\"lightgrey\"},\"left_units\":\"screen\",\"level\":\"overlay\",\"line_alpha\":{\"value\":1.0},\"line_color\":{\"value\":\"black\"},\"line_dash\":[4,4],\"line_width\":{\"value\":2},\"plot\":null,\"render_mode\":\"css\",\"right_units\":\"screen\",\"top_units\":\"screen\"},\"id\":\"a41f516c-8f01-4fdd-b16c-fb85a26c441f\",\"type\":\"BoxAnnotation\"},{\"attributes\":{\"callback\":null,\"data\":{\"x\":{\"__ndarray__\":\"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\",\"dtype\":\"float64\",\"shape\":[2217]},\"y\":[92,100,108,115,120,124,128,133,137,142,147,152,157,162,167,171,175,179,185,192,200,207,212,215,217,219,218,219,217,216,216,216,215,214,212,211,209,207,204,203,203,203,203,204,203,202,201,200,199,199,197,193,189,185,182,182,183,184,184,182,177,174,172,170,168,167,166,164,162,160,158,155,152,150,147,140,131,124,120,116,114,114,116,118,119,120,120,120,119,117,114,112,112,111,111,112,111,111,110,108,106,106,106,106,104,101,101,103,102,100,99,100,100,99,99,99,100,99,98,97,97,96,92,90,89,86,85,85,84,84,81,80,81,86,99,115,125,130,129,128,123,118,113,111,112,111,109,108,105,101,100,102,107,113,119,125,129,131,129,128,127,127,127,125,122,117,113,108,103,98,93,89,86,85,83,82,81,82,84,87,92,99,107,121,133,142,146,149,150,151,151,152,152,150,148,161,160,158,157,157,157,156,153,149,147,145,144,145,149,154,159,163,164,164,164,163,162,158,154,153,154,155,157,159,158,156,152,148,144,139,134,128,123,121,119,117,115,115,112,109,106,105,103,101,97,93,89,86,85,88,93,100,106,113,119,125,131,137,142,149,159,172,186,197,204,207,208,207,205,202,199,197,193,185,176,178,177,177,176,173,171,170,169,167,166,165,163,163,162,160,156,150,150,150,151,150,150,150,149,149,148,149,147,145,143,139,141,145,147,147,146,145,141,138,136,135,134,133,132,129,124,120,118,112,114,119,123,125,126,127,128,135,143,148,151,153,154,155,156,156,157,157,156,155,154,147,137,131,128,129,131,132,133,135,135,133,131,132,135,138,139,138,136,132,128,126,125,120,113,108,106,105,108,111,113,116,120,120,120,119,118,118,118,118,117,116,113,106,98,93,97,107,115,122,120,113,102,94,95,96,90,88,83,83,85,90,97,98,99,94,89,95,105,111,113,106,95,90,91,96,101,104,109,112,120,123,118,115,123,130,128,130,136,131,121,113,110,108,109,111,115,120,115,108,105,105,104,106,110,111,115,115,117,114,111,107,105,109,111,110,111,115,121,126,135,142,145,147,150,153,156,160,162,161,160,160,159,157,154,152,152,150,143,138,132,128,124,119,112,105,98,92,94,98,106,118,126,128,127,123,123,121,118,115,112,112,114,113,105,78,209,204,214,252,282,290,295,292,284,268,263,262,263,263,262,258,249,236,179,165,157,152,150,149,150,154,158,163,166,166,163,159,158,161,170,176,178,174,170,166,160,156,151,148,147,145,142,141,145,144,144,153,155,152,147,143,145,152,156,157,156,155,155,156,158,158,158,156,152,146,139,139,141,143,145,147,148,149,149,149,148,147,144,140,139,139,138,137,136,135,134,133,134,136,137,136,134,135,139,142,143,141,138,141,145,148,151,152,154,156,155,155,159,163,166,166,166,164,162,160,158,157,155,153,150,150,149,149,149,149,150,152,154,155,155,156,156,157,160,163,165,165,164,163,121,119,117,114,113,112,113,113,113,113,112,113,113,113,114,112,110,109,109,109,108,108,90,90,94,99,107,116,125,130,132,130,124,117,110,103,95,88,81,77,75,63,65,70,73,78,80,80,79,80,83,86,89,94,96,98,104,105,106,106,107,107,109,114,118,121,123,124,123,122,122,123,123,123,124,123,123,124,127,132,137,139,140,140,142,147,152,156,160,165,168,169,169,165,162,160,158,156,154,150,146,144,141,138,136,133,129,124,118,112,107,106,107,108,109,110,111,112,112,113,114,115,116,117,118,119,122,125,128,130,130,131,130,128,126,123,120,116,93,89,86,84,82,79,76,74,72,71,69,70,68,67,66,67,68,69,69,69,68,68,67,66,65,64,63,61,61,60,60,61,63,64,64,64,63,64,65,66,67,67,66,66,67,68,69,71,73,72,71,70,71,72,74,75,76,78,79,80,81,82,84,86,88,88,87,86,85,86,86,86,86,87,87,88,88,88,89,87,83,79,78,82,85,87,88,89,89,89,87,86,88,89,90,89,90,92,91,90,89,88,87,87,89,90,91,92,94,108,110,110,111,111,111,112,113,114,116,116,116,117,119,121,124,127,131,138,145,150,155,161,165,169,173,177,182,185,185,184,189,193,195,198,198,197,196,196,199,202,202,201,202,204,205,205,203,202,201,197,197,198,199,200,199,195,190,184,180,178,179,180,179,176,175,174,172,169,168,167,170,180,191,203,214,219,219,222,227,228,226,223,221,219,219,218,218,219,218,216,214,214,211,208,207,206,206,205,202,199,193,190,187,182,179,176,173,170,167,163,158,152,146,141,135,129,122,114,108,102,97,90,85,81,77,73,68,65,62,61,61,61,61,61,60,59,59,60,61,64,69,75,82,92,104,117,128,137,144,149,153,156,160,164,169,175,180,184,188,191,193,195,196,200,203,207,212,218,223,228,231,234,235,236,327,327,330,333,328,321,316,308,298,287,274,263,255,249,243,239,234,230,225,220,215,210,206,204,204,199,195,190,185,181,177,175,173,171,170,169,169,168,167,166,166,166,163,161,159,158,157,156,154,152,150,149,149,150,150,151,151,152,153,153,153,154,154,154,154,153,152,152,150,149,148,146,145,144,144,143,142,142,141,140,139,137,137,138,136,137,137,136,137,136,134,133,132,132,132,132,132,134,136,138,141,142,142,143,145,150,154,156,158,160,162,164,167,169,172,175,176,175,174,172,170,171,173,178,185,191,198,210,223,235,244,254,265,273,283,290,296,302,307,309,313,316,318,320,322,320,319,317,313,311,306,300,297,294,293,290,287,286,285,282,279,274,271,270,270,269,274,271,267,264,262,259,255,250,244,237,232,227,223,220,215,210,205,199,195,193,197,206,221,239,258,276,291,302,311,318,323,324,322,320,319,320,319,317,314,311,307,302,294,286,280,276,272,267,259,251,245,241,241,241,242,244,245,245,242,237,232,228,225,216,215,216,217,217,215,211,206,202,200,201,203,201,196,188,176,163,149,138,129,119,108,98,89,79,71,66,66,67,67,68,69,71,74,77,79,81,85,91,99,109,119,132,145,157,168,175,179,183,185,188,188,187,184,179,172,163,159,157,155,153,151,149,148,148,148,147,146,145,145,144,143,143,143,144,145,146,145,144,143,142,140,140,140,140,140,143,147,150,152,152,152,154,155,142,140,138,134,131,130,128,127,126,126,126,126,127,129,131,132,134,136,136,136,136,135,134,132,130,130,130,129,128,127,125,124,123,123,122,121,120,118,115,112,111,111,110,110,109,108,107,107,107,108,107,105,105,105,105,104,103,102,99,97,96,94,94,93,93,92,91,92,94,95,96,97,99,102,104,112,112,112,111,110,107,104,105,105,103,99,96,94,95,102,114,128,144,160,173,185,196,205,209,214,219,226,234,241,248,255,260,265,268,270,272,271,271,268,265,261,256,253,250,246,244,241,237,233,229,225,222,204,200,197,193,190,186,182,179,175,171,168,164,158,154,151,148,145,141,133,139,152,173,196,217,233,244,249,250,253,256,260,263,265,265,264,260,254,246,234,217,200,188,181,175,169,164,159,154,147,138,132,129,127,123,117,111,106,104,103,100,94,88,83,78,75,73,71,69,68,67,67,68,70,71,71,70,69,68,67,67,67,66,67,69,71,74,76,78,80,80,80,80,80,80,82,84,87,90,92,87,87,86,86,86,86,87,87,87,85,83,82,83,87,95,107,118,130,141,149,172,179,187,201,214,221,225,230,232,230,223,216,208,199,191,185,181,177,176,177,176,173,171,169,163,154,152,153,154,154,153,151,150,150,150,152,149,147,148,150,152,152,152,151,151,150,149,147,146,143,140,138,136,137,138,140,138,135,132,130,129,129,129,130,130,129,128,128,128,129,129,128,127,126,125,125,125,125,124,124,121,120,120,123,124,123,122,120,115,113,114,114,115,116,115,112,111,111,109,108,107,107,110,113,114,115,115,115,114,113,113,116,119,120,121,121,122,123,124,125,126,126,126,126,126,127,127,125,122,118,115,111,112,115,117,120,124,127,131,137,143,148,153,159,166,172,178,184,191,199,206,212,217,223,229,232,233,235,237,240,241,243,246,247,246,243,240,234,229,225,221,217,216,215,215,215,212,208,203,199,196,194,190,185,180,177,163,158,152,149,153,163,174,182,188,192,195,197,201,204,205,203,199,195,189,184,176,169,162,150,138,128,119,110,100,90,80,73,68,64,63,63,66,68,70,71,72,74,80,94,116,141,164,183,198,210,220,228,233,237,241,247,252,256,260,259,258,256,251,245,238,234,227,221,215,208,207,207,203,201,201,199,179,176,171,163,152,137,119,98,77,61,50,45,47,59,71,86,99,109,116,117,115,111,107,102,96,91,90,94,97,97,95,92,87,84,84,83,84,86,86,86,84,82,82,81,81,82,84,87,89,91,92,94,93,93,94,96,100,101,99,97,96,96,97,97,98,99,101,102,106,114,121,127,130,124,105,109,119,127,129,132,129,126,126,126,126,126,125,124,125,130,130,128,126,126,126,126,126,126,126,127,128,129,129,127,128,136,141,143,141,138,131,129,133,134,130,129,134,137,139,138,130,122,118,115,114,113,113,112,112,117,118,117,118,118,117,117,114,112,115,118,124,126,119,121,122,274,285,293,297,298,298,296,293,289,282,275,267,256,249,242,233,225,217,217,215,203,190,185,193,202,202,194,182,170,143,130,120,110,102,93,80,67,57,52,50,49,49,54,72,93,104,114,125,134,140,145,145,141,136,130,124,118,116,114,112,108,105,102,99,95,91,88,85,83,82,80,79,79,83,86,87,88,89,89,88,88,90,92,88,86,86,86,84,82,84,88,90,94,99,104,107,107,105,104,103,95,94,93,93,93,93,93,94,99,109,122,172,169,164,156,147,137,126,115,104,99,99,103,106,111,115,117,118,120,120,120,120,119,119,118,118,117,116,115,115,116,116,115,115,114,112,109,110,111,111,110,109,109,109,108,107,106,105,101,100,99,99,98,97,97]},\"selected\":{\"id\":\"16f7a1ab-911a-4a1c-a33e-0cd069f859c9\",\"type\":\"Selection\"},\"selection_policy\":{\"id\":\"b1c57645-756d-407f-80b3-841be07f8a89\",\"type\":\"UnionRenderers\"}},\"id\":\"b94707c5-f779-46b6-97cc-6298afc85165\",\"type\":\"ColumnDataSource\"},{\"attributes\":{},\"id\":\"0ffbe831-57b8-41d4-880b-f10104733439\",\"type\":\"PanTool\"},{\"attributes\":{\"days\":[1,8,15,22]},\"id\":\"3b6362e8-b872-497f-9f65-19abbf51fa92\",\"type\":\"DaysTicker\"},{\"attributes\":{\"days\":[\"%m/%d/%Y\"]},\"id\":\"9fbdf8df-aa9d-4841-81c8-566cecd2ede6\",\"type\":\"DatetimeTickFormatter\"},{\"attributes\":{\"days\":[1,15]},\"id\":\"f53028f6-85b2-471c-9b76-7602733e7809\",\"type\":\"DaysTicker\"},{\"attributes\":{},\"id\":\"6d6a0422-8b2e-4153-85e2-c1b635624eba\",\"type\":\"BasicTickFormatter\"},{\"attributes\":{\"overlay\":{\"id\":\"a41f516c-8f01-4fdd-b16c-fb85a26c441f\",\"type\":\"BoxAnnotation\"}},\"id\":\"62661175-f75d-4905-8639-a4ef2f633eb2\",\"type\":\"BoxZoomTool\"},{\"attributes\":{\"active_drag\":\"auto\",\"active_inspect\":\"auto\",\"active_scroll\":\"auto\",\"active_tap\":\"auto\",\"tools\":[{\"id\":\"0ffbe831-57b8-41d4-880b-f10104733439\",\"type\":\"PanTool\"},{\"id\":\"746e9a5b-1ccc-4c7b-8436-23a6271d110b\",\"type\":\"WheelZoomTool\"},{\"id\":\"62661175-f75d-4905-8639-a4ef2f633eb2\",\"type\":\"BoxZoomTool\"},{\"id\":\"07b30cf4-8cbc-40a5-80d2-dcebd87659fb\",\"type\":\"SaveTool\"},{\"id\":\"5c17f829-c91b-4ce2-840d-3e7104f8f5b1\",\"type\":\"ResetTool\"},{\"id\":\"aee42beb-3905-4682-ada6-eae565756cc8\",\"type\":\"HelpTool\"}]},\"id\":\"c6536166-4e5b-47bb-be98-0f56705fb4b1\",\"type\":\"Toolbar\"},{\"attributes\":{\"months\":[0,4,8]},\"id\":\"5d40b1c1-fcf8-4cde-a4de-1b803621eabc\",\"type\":\"MonthsTicker\"},{\"attributes\":{},\"id\":\"ac92782f-8521-4181-8784-4c483dcb9d14\",\"type\":\"LinearScale\"},{\"attributes\":{},\"id\":\"b4cf4c18-523b-4580-b13c-046edfc363c7\",\"type\":\"YearsTicker\"},{\"attributes\":{},\"id\":\"07b30cf4-8cbc-40a5-80d2-dcebd87659fb\",\"type\":\"SaveTool\"},{\"attributes\":{\"callback\":null},\"id\":\"3d0b1a8f-329f-400a-8638-3191a9abf4da\",\"type\":\"DataRange1d\"},{\"attributes\":{},\"id\":\"b1c57645-756d-407f-80b3-841be07f8a89\",\"type\":\"UnionRenderers\"},{\"attributes\":{\"days\":[1,4,7,10,13,16,19,22,25,28]},\"id\":\"27472881-bdba-40d2-8cd3-8b821e137c60\",\"type\":\"DaysTicker\"},{\"attributes\":{},\"id\":\"aee42beb-3905-4682-ada6-eae565756cc8\",\"type\":\"HelpTool\"},{\"attributes\":{\"source\":{\"id\":\"b94707c5-f779-46b6-97cc-6298afc85165\",\"type\":\"ColumnDataSource\"}},\"id\":\"b4f55b94-623a-40f5-a55b-ff2138923157\",\"type\":\"CDSView\"},{\"attributes\":{},\"id\":\"5c17f829-c91b-4ce2-840d-3e7104f8f5b1\",\"type\":\"ResetTool\"},{\"attributes\":{\"months\":[0,6]},\"id\":\"3c5951f3-2fff-4649-a8a7-8609049af9ad\",\"type\":\"MonthsTicker\"},{\"attributes\":{\"plot\":null,\"text\":\"Glocose Range\"},\"id\":\"1c1605ce-194d-40f4-8730-c38a991586ce\",\"type\":\"Title\"},{\"attributes\":{\"callback\":null},\"id\":\"e8c1b210-c446-4118-9441-f37d880047ab\",\"type\":\"DataRange1d\"},{\"attributes\":{\"formatter\":{\"id\":\"9fbdf8df-aa9d-4841-81c8-566cecd2ede6\",\"type\":\"DatetimeTickFormatter\"},\"major_label_orientation\":1.0471975511965976,\"plot\":{\"id\":\"0b23f072-5d25-4c1a-91ed-53d7f7e6b43a\",\"subtype\":\"Figure\",\"type\":\"Plot\"},\"ticker\":{\"id\":\"f25d7514-356b-4af2-8bf3-8e2329a2ebce\",\"type\":\"DatetimeTicker\"}},\"id\":\"8238b35e-194b-469e-87c1-768bd74e11f8\",\"type\":\"DatetimeAxis\"},{\"attributes\":{\"mantissas\":[1,2,5],\"max_interval\":500.0,\"num_minor_ticks\":0},\"id\":\"b02484b7-4af8-4a25-af81-1c1b8aafbf0a\",\"type\":\"AdaptiveTicker\"},{\"attributes\":{},\"id\":\"16f7a1ab-911a-4a1c-a33e-0cd069f859c9\",\"type\":\"Selection\"},{\"attributes\":{\"base\":24,\"mantissas\":[1,2,4,6,8,12],\"max_interval\":43200000.0,\"min_interval\":3600000.0,\"num_minor_ticks\":0},\"id\":\"8a6c9e6b-97bc-4148-9fe5-571d74b9eab6\",\"type\":\"AdaptiveTicker\"},{\"attributes\":{},\"id\":\"b020c3d9-c5a4-4570-a5e1-ee43ed34b010\",\"type\":\"BasicTicker\"},{\"attributes\":{},\"id\":\"746e9a5b-1ccc-4c7b-8436-23a6271d110b\",\"type\":\"WheelZoomTool\"},{\"attributes\":{\"days\":[1,2,3,4,5,6,7,8,9,10,11,12,13,14,15,16,17,18,19,20,21,22,23,24,25,26,27,28,29,30,31]},\"id\":\"5d40c8d1-978c-4b93-8d13-bb0a60907b3e\",\"type\":\"DaysTicker\"},{\"attributes\":{\"line_alpha\":0.1,\"line_color\":\"#1f77b4\",\"x\":{\"field\":\"x\"},\"y\":{\"field\":\"y\"}},\"id\":\"9aefd270-88bf-459a-b640-d1a11a372028\",\"type\":\"Line\"},{\"attributes\":{\"dimension\":1,\"plot\":{\"id\":\"0b23f072-5d25-4c1a-91ed-53d7f7e6b43a\",\"subtype\":\"Figure\",\"type\":\"Plot\"},\"ticker\":{\"id\":\"b020c3d9-c5a4-4570-a5e1-ee43ed34b010\",\"type\":\"BasicTicker\"}},\"id\":\"338df86a-fa11-4f84-b4db-a222e427826a\",\"type\":\"Grid\"},{\"attributes\":{\"plot\":{\"id\":\"0b23f072-5d25-4c1a-91ed-53d7f7e6b43a\",\"subtype\":\"Figure\",\"type\":\"Plot\"},\"ticker\":{\"id\":\"f25d7514-356b-4af2-8bf3-8e2329a2ebce\",\"type\":\"DatetimeTicker\"}},\"id\":\"110395dd-d6b5-4525-8985-ccdac2325354\",\"type\":\"Grid\"},{\"attributes\":{\"months\":[0,2,4,6,8,10]},\"id\":\"078d0d4e-5e7f-4738-b85d-f50f25eb478d\",\"type\":\"MonthsTicker\"},{\"attributes\":{\"line_color\":\"#1f77b4\",\"x\":{\"field\":\"x\"},\"y\":{\"field\":\"y\"}},\"id\":\"20a6b658-5db5-4406-beae-8f66128f1ce4\",\"type\":\"Line\"},{\"attributes\":{\"below\":[{\"id\":\"8238b35e-194b-469e-87c1-768bd74e11f8\",\"type\":\"DatetimeAxis\"}],\"left\":[{\"id\":\"080bf9e9-d652-4b1e-aaad-06db1ee89eba\",\"type\":\"LinearAxis\"}],\"plot_height\":350,\"plot_width\":800,\"renderers\":[{\"id\":\"8238b35e-194b-469e-87c1-768bd74e11f8\",\"type\":\"DatetimeAxis\"},{\"id\":\"110395dd-d6b5-4525-8985-ccdac2325354\",\"type\":\"Grid\"},{\"id\":\"080bf9e9-d652-4b1e-aaad-06db1ee89eba\",\"type\":\"LinearAxis\"},{\"id\":\"338df86a-fa11-4f84-b4db-a222e427826a\",\"type\":\"Grid\"},{\"id\":\"a41f516c-8f01-4fdd-b16c-fb85a26c441f\",\"type\":\"BoxAnnotation\"},{\"id\":\"2f28180e-14ac-495c-a2d7-ebdf92387aa3\",\"type\":\"GlyphRenderer\"}],\"title\":{\"id\":\"1c1605ce-194d-40f4-8730-c38a991586ce\",\"type\":\"Title\"},\"toolbar\":{\"id\":\"c6536166-4e5b-47bb-be98-0f56705fb4b1\",\"type\":\"Toolbar\"},\"x_range\":{\"id\":\"3d0b1a8f-329f-400a-8638-3191a9abf4da\",\"type\":\"DataRange1d\"},\"x_scale\":{\"id\":\"ac92782f-8521-4181-8784-4c483dcb9d14\",\"type\":\"LinearScale\"},\"y_range\":{\"id\":\"e8c1b210-c446-4118-9441-f37d880047ab\",\"type\":\"DataRange1d\"},\"y_scale\":{\"id\":\"e32603a6-ea2e-4092-bc65-a47abf45393d\",\"type\":\"LinearScale\"}},\"id\":\"0b23f072-5d25-4c1a-91ed-53d7f7e6b43a\",\"subtype\":\"Figure\",\"type\":\"Plot\"},{\"attributes\":{\"formatter\":{\"id\":\"6d6a0422-8b2e-4153-85e2-c1b635624eba\",\"type\":\"BasicTickFormatter\"},\"plot\":{\"id\":\"0b23f072-5d25-4c1a-91ed-53d7f7e6b43a\",\"subtype\":\"Figure\",\"type\":\"Plot\"},\"ticker\":{\"id\":\"b020c3d9-c5a4-4570-a5e1-ee43ed34b010\",\"type\":\"BasicTicker\"}},\"id\":\"080bf9e9-d652-4b1e-aaad-06db1ee89eba\",\"type\":\"LinearAxis\"}],\"root_ids\":[\"0b23f072-5d25-4c1a-91ed-53d7f7e6b43a\"]},\"title\":\"Bokeh Application\",\"version\":\"0.12.16\"}};\n",
       "  var render_items = [{\"docid\":\"fc48af95-610a-43f3-be08-fa75b3c46277\",\"elementid\":\"5883405c-36c3-41ae-ae7a-c1656e2a72b7\",\"modelid\":\"0b23f072-5d25-4c1a-91ed-53d7f7e6b43a\"}];\n",
       "  root.Bokeh.embed.embed_items_notebook(docs_json, render_items);\n",
       "\n",
       "  }\n",
       "  if (root.Bokeh !== undefined) {\n",
       "    embed_document(root);\n",
       "  } else {\n",
       "    var attempts = 0;\n",
       "    var timer = setInterval(function(root) {\n",
       "      if (root.Bokeh !== undefined) {\n",
       "        embed_document(root);\n",
       "        clearInterval(timer);\n",
       "      }\n",
       "      attempts++;\n",
       "      if (attempts > 100) {\n",
       "        console.log(\"Bokeh: ERROR: Unable to run BokehJS code because BokehJS library is missing\")\n",
       "        clearInterval(timer);\n",
       "      }\n",
       "    }, 10, root)\n",
       "  }\n",
       "})(window);"
      ],
      "application/vnd.bokehjs_exec.v0+json": ""
     },
     "metadata": {
      "application/vnd.bokehjs_exec.v0+json": {
       "id": "0b23f072-5d25-4c1a-91ed-53d7f7e6b43a"
      }
     },
     "output_type": "display_data"
    }
   ],
   "source": [
    "from math import pi\n",
    "from bokeh.sampledata.glucose import data\n",
    "\n",
    "week = data.loc['2010-10-01':'2010-10-08']\n",
    "\n",
    "p = figure(x_axis_type=\"datetime\", title=\"Glocose Range\", plot_height=350, plot_width=800)\n",
    "p.xaxis[0].formatter.days = '%m/%d/%Y'\n",
    "p.xaxis.major_label_orientation = pi/3\n",
    "\n",
    "p.line(week.index, week.glucose)\n",
    "\n",
    "show(p)"
   ]
  },
  {
   "cell_type": "markdown",
   "metadata": {},
   "source": [
    "See the reference guide entry for [DatetimeTickFormatter](http://bokeh.pydata.org/en/latest/docs/reference/models/formatters.html#bokeh.models.formatters.DatetimeTickFormatter) to see other properties that can be updated. \n",
    "\n",
    "*Note: It's worth noting a little quirk here, because of the way \"splattable\" lists work, we do have to be explicit about which formatter object we want to update, i.e. `p.xaxis[0].formatter`*\n",
    "\n",
    "In addition to the tick formatters that Bokeh will use by default, there are others such as the [`NumeralTickFormatter`](http://bokeh.pydata.org/en/latest/docs/user_guide/styling.html#numeraltickformatter) that we can configure explicitly. The example below shows how to set a formatter on each axis. "
   ]
  },
  {
   "cell_type": "code",
   "execution_count": 23,
   "metadata": {},
   "outputs": [
    {
     "data": {
      "text/html": [
       "\n",
       "<div class=\"bk-root\">\n",
       "    <div class=\"bk-plotdiv\" id=\"96a9ac9a-6221-4e63-9c27-5057cd4fc78c\"></div>\n",
       "</div>"
      ]
     },
     "metadata": {},
     "output_type": "display_data"
    },
    {
     "data": {
      "application/javascript": [
       "(function(root) {\n",
       "  function embed_document(root) {\n",
       "    \n",
       "  var docs_json = {\"6ea0ba0e-e319-4fc0-8b32-6d4a9a1eeac6\":{\"roots\":{\"references\":[{\"attributes\":{\"format\":\"$0.00\"},\"id\":\"72783ad7-02a6-443d-b8cc-6db62ea2a28d\",\"type\":\"NumeralTickFormatter\"},{\"attributes\":{\"callback\":null,\"data\":{\"x\":[1,2,3,4,5],\"y\":[2,5,8,2,7]},\"selected\":{\"id\":\"02f44fab-473a-4fc3-aedd-54f15f9f66fa\",\"type\":\"Selection\"},\"selection_policy\":{\"id\":\"4441014d-17e4-457c-a998-d149c861451f\",\"type\":\"UnionRenderers\"}},\"id\":\"8da50542-2c2f-4e1c-943c-5e706b11cba5\",\"type\":\"ColumnDataSource\"},{\"attributes\":{\"data_source\":{\"id\":\"8da50542-2c2f-4e1c-943c-5e706b11cba5\",\"type\":\"ColumnDataSource\"},\"glyph\":{\"id\":\"1d1dfdab-f976-42c4-9d88-fdf708c5d64e\",\"type\":\"Circle\"},\"hover_glyph\":null,\"muted_glyph\":null,\"nonselection_glyph\":{\"id\":\"eaabea2a-0b28-4bae-a6f1-cb684591114b\",\"type\":\"Circle\"},\"selection_glyph\":null,\"view\":{\"id\":\"0c6a940a-b606-4a08-bd48-56de85f782c3\",\"type\":\"CDSView\"}},\"id\":\"e81625b1-ae65-4fb5-93fd-b859f96a391c\",\"type\":\"GlyphRenderer\"},{\"attributes\":{},\"id\":\"08b2ed7c-7844-4458-bb4a-c7e46a88b248\",\"type\":\"WheelZoomTool\"},{\"attributes\":{\"active_drag\":\"auto\",\"active_inspect\":\"auto\",\"active_scroll\":\"auto\",\"active_tap\":\"auto\",\"tools\":[{\"id\":\"d672c19d-a6f1-40cb-9e46-e2451f27b16b\",\"type\":\"PanTool\"},{\"id\":\"08b2ed7c-7844-4458-bb4a-c7e46a88b248\",\"type\":\"WheelZoomTool\"},{\"id\":\"dc2d0c0f-6795-46b9-9694-9272af4582df\",\"type\":\"BoxZoomTool\"},{\"id\":\"14c8a941-247f-4509-a2ac-80e79ec24b31\",\"type\":\"SaveTool\"},{\"id\":\"a67b145c-ecf2-4031-b1b3-3fe5cf5ade19\",\"type\":\"ResetTool\"},{\"id\":\"d7552e80-684d-4101-9827-4ea06d71cdcf\",\"type\":\"HelpTool\"}]},\"id\":\"26d9f871-f54b-4250-ab95-503780b37de6\",\"type\":\"Toolbar\"},{\"attributes\":{\"overlay\":{\"id\":\"14f94ca4-f8ea-4069-9444-ed96276404d5\",\"type\":\"BoxAnnotation\"}},\"id\":\"dc2d0c0f-6795-46b9-9694-9272af4582df\",\"type\":\"BoxZoomTool\"},{\"attributes\":{\"fill_color\":{\"value\":\"#1f77b4\"},\"line_color\":{\"value\":\"#1f77b4\"},\"size\":{\"units\":\"screen\",\"value\":10},\"x\":{\"field\":\"x\"},\"y\":{\"field\":\"y\"}},\"id\":\"1d1dfdab-f976-42c4-9d88-fdf708c5d64e\",\"type\":\"Circle\"},{\"attributes\":{\"source\":{\"id\":\"8da50542-2c2f-4e1c-943c-5e706b11cba5\",\"type\":\"ColumnDataSource\"}},\"id\":\"0c6a940a-b606-4a08-bd48-56de85f782c3\",\"type\":\"CDSView\"},{\"attributes\":{},\"id\":\"c31bd87a-4e9e-4080-8856-86096412c5f1\",\"type\":\"BasicTicker\"},{\"attributes\":{},\"id\":\"4441014d-17e4-457c-a998-d149c861451f\",\"type\":\"UnionRenderers\"},{\"attributes\":{\"plot\":null,\"text\":\"\"},\"id\":\"750ae09e-8dd3-4154-8c12-a88ba05e59bd\",\"type\":\"Title\"},{\"attributes\":{},\"id\":\"550fc971-0b4d-4998-9aaf-9b7a2e1ba176\",\"type\":\"LinearScale\"},{\"attributes\":{\"dimension\":1,\"plot\":{\"id\":\"92224129-9b17-4e76-a139-ac1192ff2124\",\"subtype\":\"Figure\",\"type\":\"Plot\"},\"ticker\":{\"id\":\"c31bd87a-4e9e-4080-8856-86096412c5f1\",\"type\":\"BasicTicker\"}},\"id\":\"52fbdfd7-d63f-4d0e-a9c8-298b6d67266c\",\"type\":\"Grid\"},{\"attributes\":{\"formatter\":{\"id\":\"72783ad7-02a6-443d-b8cc-6db62ea2a28d\",\"type\":\"NumeralTickFormatter\"},\"plot\":{\"id\":\"92224129-9b17-4e76-a139-ac1192ff2124\",\"subtype\":\"Figure\",\"type\":\"Plot\"},\"ticker\":{\"id\":\"c31bd87a-4e9e-4080-8856-86096412c5f1\",\"type\":\"BasicTicker\"}},\"id\":\"e174761d-97ef-45ad-839b-2b4d9c2ea75f\",\"type\":\"LinearAxis\"},{\"attributes\":{},\"id\":\"d7552e80-684d-4101-9827-4ea06d71cdcf\",\"type\":\"HelpTool\"},{\"attributes\":{},\"id\":\"a67b145c-ecf2-4031-b1b3-3fe5cf5ade19\",\"type\":\"ResetTool\"},{\"attributes\":{\"callback\":null},\"id\":\"be8fe3ba-6bbe-46f0-b48f-f96a85eafeed\",\"type\":\"DataRange1d\"},{\"attributes\":{\"bottom_units\":\"screen\",\"fill_alpha\":{\"value\":0.5},\"fill_color\":{\"value\":\"lightgrey\"},\"left_units\":\"screen\",\"level\":\"overlay\",\"line_alpha\":{\"value\":1.0},\"line_color\":{\"value\":\"black\"},\"line_dash\":[4,4],\"line_width\":{\"value\":2},\"plot\":null,\"render_mode\":\"css\",\"right_units\":\"screen\",\"top_units\":\"screen\"},\"id\":\"14f94ca4-f8ea-4069-9444-ed96276404d5\",\"type\":\"BoxAnnotation\"},{\"attributes\":{\"fill_alpha\":{\"value\":0.1},\"fill_color\":{\"value\":\"#1f77b4\"},\"line_alpha\":{\"value\":0.1},\"line_color\":{\"value\":\"#1f77b4\"},\"size\":{\"units\":\"screen\",\"value\":10},\"x\":{\"field\":\"x\"},\"y\":{\"field\":\"y\"}},\"id\":\"eaabea2a-0b28-4bae-a6f1-cb684591114b\",\"type\":\"Circle\"},{\"attributes\":{\"plot\":{\"id\":\"92224129-9b17-4e76-a139-ac1192ff2124\",\"subtype\":\"Figure\",\"type\":\"Plot\"},\"ticker\":{\"id\":\"5ce8228d-866e-425f-9c08-6b5fc6324ea3\",\"type\":\"BasicTicker\"}},\"id\":\"44ef28b4-4a71-4a82-ba4c-0e1c320958db\",\"type\":\"Grid\"},{\"attributes\":{\"format\":\"0.0%\"},\"id\":\"7fa02c8d-78b5-427b-8b45-d12f0794a1be\",\"type\":\"NumeralTickFormatter\"},{\"attributes\":{},\"id\":\"14c8a941-247f-4509-a2ac-80e79ec24b31\",\"type\":\"SaveTool\"},{\"attributes\":{\"formatter\":{\"id\":\"7fa02c8d-78b5-427b-8b45-d12f0794a1be\",\"type\":\"NumeralTickFormatter\"},\"plot\":{\"id\":\"92224129-9b17-4e76-a139-ac1192ff2124\",\"subtype\":\"Figure\",\"type\":\"Plot\"},\"ticker\":{\"id\":\"5ce8228d-866e-425f-9c08-6b5fc6324ea3\",\"type\":\"BasicTicker\"}},\"id\":\"f0a3d3fd-ad57-4bc4-bb0b-a46ef4dfa73e\",\"type\":\"LinearAxis\"},{\"attributes\":{},\"id\":\"02f44fab-473a-4fc3-aedd-54f15f9f66fa\",\"type\":\"Selection\"},{\"attributes\":{\"below\":[{\"id\":\"f0a3d3fd-ad57-4bc4-bb0b-a46ef4dfa73e\",\"type\":\"LinearAxis\"}],\"left\":[{\"id\":\"e174761d-97ef-45ad-839b-2b4d9c2ea75f\",\"type\":\"LinearAxis\"}],\"plot_height\":300,\"plot_width\":800,\"renderers\":[{\"id\":\"f0a3d3fd-ad57-4bc4-bb0b-a46ef4dfa73e\",\"type\":\"LinearAxis\"},{\"id\":\"44ef28b4-4a71-4a82-ba4c-0e1c320958db\",\"type\":\"Grid\"},{\"id\":\"e174761d-97ef-45ad-839b-2b4d9c2ea75f\",\"type\":\"LinearAxis\"},{\"id\":\"52fbdfd7-d63f-4d0e-a9c8-298b6d67266c\",\"type\":\"Grid\"},{\"id\":\"14f94ca4-f8ea-4069-9444-ed96276404d5\",\"type\":\"BoxAnnotation\"},{\"id\":\"e81625b1-ae65-4fb5-93fd-b859f96a391c\",\"type\":\"GlyphRenderer\"}],\"title\":{\"id\":\"750ae09e-8dd3-4154-8c12-a88ba05e59bd\",\"type\":\"Title\"},\"toolbar\":{\"id\":\"26d9f871-f54b-4250-ab95-503780b37de6\",\"type\":\"Toolbar\"},\"x_range\":{\"id\":\"be8fe3ba-6bbe-46f0-b48f-f96a85eafeed\",\"type\":\"DataRange1d\"},\"x_scale\":{\"id\":\"550fc971-0b4d-4998-9aaf-9b7a2e1ba176\",\"type\":\"LinearScale\"},\"y_range\":{\"id\":\"fbfee33b-f361-4e2b-bd7b-a19241a92dd8\",\"type\":\"DataRange1d\"},\"y_scale\":{\"id\":\"177d4b84-a594-46b1-9182-446380b715b6\",\"type\":\"LinearScale\"}},\"id\":\"92224129-9b17-4e76-a139-ac1192ff2124\",\"subtype\":\"Figure\",\"type\":\"Plot\"},{\"attributes\":{\"callback\":null},\"id\":\"fbfee33b-f361-4e2b-bd7b-a19241a92dd8\",\"type\":\"DataRange1d\"},{\"attributes\":{},\"id\":\"5ce8228d-866e-425f-9c08-6b5fc6324ea3\",\"type\":\"BasicTicker\"},{\"attributes\":{},\"id\":\"d672c19d-a6f1-40cb-9e46-e2451f27b16b\",\"type\":\"PanTool\"},{\"attributes\":{},\"id\":\"177d4b84-a594-46b1-9182-446380b715b6\",\"type\":\"LinearScale\"}],\"root_ids\":[\"92224129-9b17-4e76-a139-ac1192ff2124\"]},\"title\":\"Bokeh Application\",\"version\":\"0.12.16\"}};\n",
       "  var render_items = [{\"docid\":\"6ea0ba0e-e319-4fc0-8b32-6d4a9a1eeac6\",\"elementid\":\"96a9ac9a-6221-4e63-9c27-5057cd4fc78c\",\"modelid\":\"92224129-9b17-4e76-a139-ac1192ff2124\"}];\n",
       "  root.Bokeh.embed.embed_items_notebook(docs_json, render_items);\n",
       "\n",
       "  }\n",
       "  if (root.Bokeh !== undefined) {\n",
       "    embed_document(root);\n",
       "  } else {\n",
       "    var attempts = 0;\n",
       "    var timer = setInterval(function(root) {\n",
       "      if (root.Bokeh !== undefined) {\n",
       "        embed_document(root);\n",
       "        clearInterval(timer);\n",
       "      }\n",
       "      attempts++;\n",
       "      if (attempts > 100) {\n",
       "        console.log(\"Bokeh: ERROR: Unable to run BokehJS code because BokehJS library is missing\")\n",
       "        clearInterval(timer);\n",
       "      }\n",
       "    }, 10, root)\n",
       "  }\n",
       "})(window);"
      ],
      "application/vnd.bokehjs_exec.v0+json": ""
     },
     "metadata": {
      "application/vnd.bokehjs_exec.v0+json": {
       "id": "92224129-9b17-4e76-a139-ac1192ff2124"
      }
     },
     "output_type": "display_data"
    }
   ],
   "source": [
    "from bokeh.models import NumeralTickFormatter\n",
    "\n",
    "p = figure(plot_height=300, plot_width=800)\n",
    "p.circle([1,2,3,4,5], [2,5,8,2,7], size=10)\n",
    "\n",
    "p.xaxis.formatter = NumeralTickFormatter(format=\"0.0%\")\n",
    "p.yaxis.formatter = NumeralTickFormatter(format=\"$0.00\")\n",
    "\n",
    "show(p)"
   ]
  },
  {
   "cell_type": "markdown",
   "metadata": {},
   "source": [
    "Try experimenting with the format argument and re-execute the cell above.\n",
    "\n",
    "There are many other possibilities for controlling tick formatting, including the possibility of supplying a JavaScript snippet to perform arbitrary formatting in the browser. See the [Tick Label Formats](http://bokeh.pydata.org/en/latest/docs/user_guide/styling.html#tick-label-formats) for more details.  \n",
    "\n",
    "\n",
    "It is also possible to customize *where* ticks will be drawn. See the [Tick Locations](http://bokeh.pydata.org/en/latest/docs/user_guide/styling.html#tick-locations) section of the User's Guide for more information."
   ]
  },
  {
   "cell_type": "markdown",
   "metadata": {},
   "source": [
    "# Grids\n",
    "\n",
    "It is also possible to control the [styling of Grids](http://bokeh.pydata.org/en/latest/docs/user_guide/styling.html#grids)\n",
    "\n",
    "Grids properties in Bokeh have two possible prefixes:\n",
    "\n",
    "* **grid** properties (which are [line properties](http://bokeh.pydata.org/en/latest/docs/user_guide/styling.html#line-properties)) control the \"grid lines\"\n",
    "* **band** properties (which are [fill properties](http://bokeh.pydata.org/en/latest/docs/user_guide/styling.html#fill-properties)) control shaded bands between grid lines\n",
    "\n",
    "In this first example we turn off the vertical grid lines (by setting the line color to None) and set the horizontal grid to be light and dashed."
   ]
  },
  {
   "cell_type": "code",
   "execution_count": 24,
   "metadata": {},
   "outputs": [
    {
     "data": {
      "text/html": [
       "\n",
       "<div class=\"bk-root\">\n",
       "    <div class=\"bk-plotdiv\" id=\"61816ecb-7dbc-4fef-9dc1-9fce6fbbb7de\"></div>\n",
       "</div>"
      ]
     },
     "metadata": {},
     "output_type": "display_data"
    },
    {
     "data": {
      "application/javascript": [
       "(function(root) {\n",
       "  function embed_document(root) {\n",
       "    \n",
       "  var docs_json = {\"cb11e043-ccbe-4dbe-81ac-14fc9bedce4b\":{\"roots\":{\"references\":[{\"attributes\":{\"data_source\":{\"id\":\"08cb4ce2-0823-4538-83e8-35e575cd9269\",\"type\":\"ColumnDataSource\"},\"glyph\":{\"id\":\"3e755af6-2d44-4a45-9133-35e05d140bb2\",\"type\":\"Circle\"},\"hover_glyph\":null,\"muted_glyph\":null,\"nonselection_glyph\":{\"id\":\"21e6308f-aa76-4be4-a5e8-27adb0836c33\",\"type\":\"Circle\"},\"selection_glyph\":null,\"view\":{\"id\":\"f343cb9e-1795-4bf4-b3c2-abcd0bb598c6\",\"type\":\"CDSView\"}},\"id\":\"4929a220-3982-4bb1-9308-5b88dd9a2ba3\",\"type\":\"GlyphRenderer\"},{\"attributes\":{\"below\":[{\"id\":\"43d34458-8d38-41fd-b888-db157418ae28\",\"type\":\"LinearAxis\"}],\"left\":[{\"id\":\"5993a4a1-b149-4f2c-9bb5-5f31d2698cde\",\"type\":\"LinearAxis\"}],\"plot_height\":400,\"plot_width\":400,\"renderers\":[{\"id\":\"43d34458-8d38-41fd-b888-db157418ae28\",\"type\":\"LinearAxis\"},{\"id\":\"ff100a44-6dd7-47e0-b967-428558da5c7f\",\"type\":\"Grid\"},{\"id\":\"5993a4a1-b149-4f2c-9bb5-5f31d2698cde\",\"type\":\"LinearAxis\"},{\"id\":\"f7ecae80-c049-47d1-8adf-fdf5cad3918b\",\"type\":\"Grid\"},{\"id\":\"c4eeb774-4ced-4374-b885-5c5ec16c1ebd\",\"type\":\"BoxAnnotation\"},{\"id\":\"4929a220-3982-4bb1-9308-5b88dd9a2ba3\",\"type\":\"GlyphRenderer\"}],\"title\":{\"id\":\"cd4e20fd-184b-4b88-9b76-fad8c0e51aef\",\"type\":\"Title\"},\"toolbar\":{\"id\":\"8468e806-59d6-4ae8-80c3-89fcb713998e\",\"type\":\"Toolbar\"},\"x_range\":{\"id\":\"1474536a-e261-4e08-8139-d1938d4acf80\",\"type\":\"DataRange1d\"},\"x_scale\":{\"id\":\"05888a7f-173e-433e-b889-719f861bab1c\",\"type\":\"LinearScale\"},\"y_range\":{\"id\":\"8e9cb10b-7d0b-4be9-94a6-c75673e638df\",\"type\":\"DataRange1d\"},\"y_scale\":{\"id\":\"3c39660c-7dff-4624-9826-97f01c036905\",\"type\":\"LinearScale\"}},\"id\":\"e4b15fc6-4ddc-443d-8043-09c54157f8a8\",\"subtype\":\"Figure\",\"type\":\"Plot\"},{\"attributes\":{\"source\":{\"id\":\"08cb4ce2-0823-4538-83e8-35e575cd9269\",\"type\":\"ColumnDataSource\"}},\"id\":\"f343cb9e-1795-4bf4-b3c2-abcd0bb598c6\",\"type\":\"CDSView\"},{\"attributes\":{\"active_drag\":\"auto\",\"active_inspect\":\"auto\",\"active_scroll\":\"auto\",\"active_tap\":\"auto\",\"tools\":[{\"id\":\"0aa2de3b-5428-4b97-b7d1-fe56510a0e2c\",\"type\":\"PanTool\"},{\"id\":\"c8a25fcd-7148-4320-b802-51910ef63b7d\",\"type\":\"WheelZoomTool\"},{\"id\":\"a4151f6c-69bc-4869-a5db-ce6fb0ac0c3a\",\"type\":\"BoxZoomTool\"},{\"id\":\"a108e362-c4e1-4802-a3f6-f4e695029f50\",\"type\":\"SaveTool\"},{\"id\":\"98c3b2df-0dd1-4be2-bcf1-0c765e0603fd\",\"type\":\"ResetTool\"},{\"id\":\"a1469386-1496-408b-b688-ee67abe0bd71\",\"type\":\"HelpTool\"}]},\"id\":\"8468e806-59d6-4ae8-80c3-89fcb713998e\",\"type\":\"Toolbar\"},{\"attributes\":{\"bottom_units\":\"screen\",\"fill_alpha\":{\"value\":0.5},\"fill_color\":{\"value\":\"lightgrey\"},\"left_units\":\"screen\",\"level\":\"overlay\",\"line_alpha\":{\"value\":1.0},\"line_color\":{\"value\":\"black\"},\"line_dash\":[4,4],\"line_width\":{\"value\":2},\"plot\":null,\"render_mode\":\"css\",\"right_units\":\"screen\",\"top_units\":\"screen\"},\"id\":\"c4eeb774-4ced-4374-b885-5c5ec16c1ebd\",\"type\":\"BoxAnnotation\"},{\"attributes\":{\"callback\":null},\"id\":\"1474536a-e261-4e08-8139-d1938d4acf80\",\"type\":\"DataRange1d\"},{\"attributes\":{},\"id\":\"0aa2de3b-5428-4b97-b7d1-fe56510a0e2c\",\"type\":\"PanTool\"},{\"attributes\":{},\"id\":\"2dc1f1d9-7294-4ab5-9d63-aebf41b82e8c\",\"type\":\"BasicTickFormatter\"},{\"attributes\":{\"callback\":null},\"id\":\"8e9cb10b-7d0b-4be9-94a6-c75673e638df\",\"type\":\"DataRange1d\"},{\"attributes\":{},\"id\":\"c8a25fcd-7148-4320-b802-51910ef63b7d\",\"type\":\"WheelZoomTool\"},{\"attributes\":{},\"id\":\"05888a7f-173e-433e-b889-719f861bab1c\",\"type\":\"LinearScale\"},{\"attributes\":{\"fill_color\":{\"value\":\"#1f77b4\"},\"line_color\":{\"value\":\"#1f77b4\"},\"size\":{\"units\":\"screen\",\"value\":10},\"x\":{\"field\":\"x\"},\"y\":{\"field\":\"y\"}},\"id\":\"3e755af6-2d44-4a45-9133-35e05d140bb2\",\"type\":\"Circle\"},{\"attributes\":{\"overlay\":{\"id\":\"c4eeb774-4ced-4374-b885-5c5ec16c1ebd\",\"type\":\"BoxAnnotation\"}},\"id\":\"a4151f6c-69bc-4869-a5db-ce6fb0ac0c3a\",\"type\":\"BoxZoomTool\"},{\"attributes\":{},\"id\":\"3c39660c-7dff-4624-9826-97f01c036905\",\"type\":\"LinearScale\"},{\"attributes\":{},\"id\":\"a108e362-c4e1-4802-a3f6-f4e695029f50\",\"type\":\"SaveTool\"},{\"attributes\":{},\"id\":\"98c3b2df-0dd1-4be2-bcf1-0c765e0603fd\",\"type\":\"ResetTool\"},{\"attributes\":{\"formatter\":{\"id\":\"2dc1f1d9-7294-4ab5-9d63-aebf41b82e8c\",\"type\":\"BasicTickFormatter\"},\"plot\":{\"id\":\"e4b15fc6-4ddc-443d-8043-09c54157f8a8\",\"subtype\":\"Figure\",\"type\":\"Plot\"},\"ticker\":{\"id\":\"acc8ef96-fdb5-434d-bb73-081454e8462a\",\"type\":\"BasicTicker\"}},\"id\":\"43d34458-8d38-41fd-b888-db157418ae28\",\"type\":\"LinearAxis\"},{\"attributes\":{},\"id\":\"a1469386-1496-408b-b688-ee67abe0bd71\",\"type\":\"HelpTool\"},{\"attributes\":{},\"id\":\"0ec11720-42e1-43b8-8f1b-6fadaa364ddc\",\"type\":\"BasicTickFormatter\"},{\"attributes\":{},\"id\":\"96861240-245c-44be-8b1d-cabaa4f0512c\",\"type\":\"Selection\"},{\"attributes\":{\"plot\":null,\"text\":\"\"},\"id\":\"cd4e20fd-184b-4b88-9b76-fad8c0e51aef\",\"type\":\"Title\"},{\"attributes\":{},\"id\":\"acc8ef96-fdb5-434d-bb73-081454e8462a\",\"type\":\"BasicTicker\"},{\"attributes\":{\"fill_alpha\":{\"value\":0.1},\"fill_color\":{\"value\":\"#1f77b4\"},\"line_alpha\":{\"value\":0.1},\"line_color\":{\"value\":\"#1f77b4\"},\"size\":{\"units\":\"screen\",\"value\":10},\"x\":{\"field\":\"x\"},\"y\":{\"field\":\"y\"}},\"id\":\"21e6308f-aa76-4be4-a5e8-27adb0836c33\",\"type\":\"Circle\"},{\"attributes\":{\"grid_line_color\":{\"value\":null},\"plot\":{\"id\":\"e4b15fc6-4ddc-443d-8043-09c54157f8a8\",\"subtype\":\"Figure\",\"type\":\"Plot\"},\"ticker\":{\"id\":\"acc8ef96-fdb5-434d-bb73-081454e8462a\",\"type\":\"BasicTicker\"}},\"id\":\"ff100a44-6dd7-47e0-b967-428558da5c7f\",\"type\":\"Grid\"},{\"attributes\":{\"callback\":null,\"data\":{\"x\":[1,2,3,4,5],\"y\":[2,5,8,2,7]},\"selected\":{\"id\":\"96861240-245c-44be-8b1d-cabaa4f0512c\",\"type\":\"Selection\"},\"selection_policy\":{\"id\":\"62e9fd60-98bf-4366-845c-c10d7c0cf2eb\",\"type\":\"UnionRenderers\"}},\"id\":\"08cb4ce2-0823-4538-83e8-35e575cd9269\",\"type\":\"ColumnDataSource\"},{\"attributes\":{\"formatter\":{\"id\":\"0ec11720-42e1-43b8-8f1b-6fadaa364ddc\",\"type\":\"BasicTickFormatter\"},\"plot\":{\"id\":\"e4b15fc6-4ddc-443d-8043-09c54157f8a8\",\"subtype\":\"Figure\",\"type\":\"Plot\"},\"ticker\":{\"id\":\"f81ff348-5686-4fd5-ad40-35a9409c13b2\",\"type\":\"BasicTicker\"}},\"id\":\"5993a4a1-b149-4f2c-9bb5-5f31d2698cde\",\"type\":\"LinearAxis\"},{\"attributes\":{},\"id\":\"62e9fd60-98bf-4366-845c-c10d7c0cf2eb\",\"type\":\"UnionRenderers\"},{\"attributes\":{},\"id\":\"f81ff348-5686-4fd5-ad40-35a9409c13b2\",\"type\":\"BasicTicker\"},{\"attributes\":{\"dimension\":1,\"grid_line_alpha\":{\"value\":0.5},\"grid_line_dash\":[6,4],\"plot\":{\"id\":\"e4b15fc6-4ddc-443d-8043-09c54157f8a8\",\"subtype\":\"Figure\",\"type\":\"Plot\"},\"ticker\":{\"id\":\"f81ff348-5686-4fd5-ad40-35a9409c13b2\",\"type\":\"BasicTicker\"}},\"id\":\"f7ecae80-c049-47d1-8adf-fdf5cad3918b\",\"type\":\"Grid\"}],\"root_ids\":[\"e4b15fc6-4ddc-443d-8043-09c54157f8a8\"]},\"title\":\"Bokeh Application\",\"version\":\"0.12.16\"}};\n",
       "  var render_items = [{\"docid\":\"cb11e043-ccbe-4dbe-81ac-14fc9bedce4b\",\"elementid\":\"61816ecb-7dbc-4fef-9dc1-9fce6fbbb7de\",\"modelid\":\"e4b15fc6-4ddc-443d-8043-09c54157f8a8\"}];\n",
       "  root.Bokeh.embed.embed_items_notebook(docs_json, render_items);\n",
       "\n",
       "  }\n",
       "  if (root.Bokeh !== undefined) {\n",
       "    embed_document(root);\n",
       "  } else {\n",
       "    var attempts = 0;\n",
       "    var timer = setInterval(function(root) {\n",
       "      if (root.Bokeh !== undefined) {\n",
       "        embed_document(root);\n",
       "        clearInterval(timer);\n",
       "      }\n",
       "      attempts++;\n",
       "      if (attempts > 100) {\n",
       "        console.log(\"Bokeh: ERROR: Unable to run BokehJS code because BokehJS library is missing\")\n",
       "        clearInterval(timer);\n",
       "      }\n",
       "    }, 10, root)\n",
       "  }\n",
       "})(window);"
      ],
      "application/vnd.bokehjs_exec.v0+json": ""
     },
     "metadata": {
      "application/vnd.bokehjs_exec.v0+json": {
       "id": "e4b15fc6-4ddc-443d-8043-09c54157f8a8"
      }
     },
     "output_type": "display_data"
    }
   ],
   "source": [
    "p = figure(plot_width=400, plot_height=400)\n",
    "p.circle([1,2,3,4,5], [2,5,8,2,7], size=10)\n",
    "\n",
    "# change just some things about the x-grid\n",
    "p.xgrid.grid_line_color = None\n",
    "\n",
    "# change just some things about the y-grid\n",
    "p.ygrid.grid_line_alpha = 0.5\n",
    "p.ygrid.grid_line_dash = [6, 4]\n",
    "\n",
    "show(p)"
   ]
  },
  {
   "cell_type": "markdown",
   "metadata": {},
   "source": [
    "The next example shows how the \"band\" properties of a plot can be specified"
   ]
  },
  {
   "cell_type": "code",
   "execution_count": 25,
   "metadata": {},
   "outputs": [
    {
     "data": {
      "text/html": [
       "\n",
       "<div class=\"bk-root\">\n",
       "    <div class=\"bk-plotdiv\" id=\"745fabdb-0085-444b-ba35-8b8b5490cc58\"></div>\n",
       "</div>"
      ]
     },
     "metadata": {},
     "output_type": "display_data"
    },
    {
     "data": {
      "application/javascript": [
       "(function(root) {\n",
       "  function embed_document(root) {\n",
       "    \n",
       "  var docs_json = {\"526ebcbb-467b-4c6a-a57e-2e80ce768f3d\":{\"roots\":{\"references\":[{\"attributes\":{\"formatter\":{\"id\":\"d62546a5-706c-4f4e-9e6d-23b793c8eeeb\",\"type\":\"BasicTickFormatter\"},\"plot\":{\"id\":\"e416bd6b-035c-4d58-b9c6-02c9b377e86d\",\"subtype\":\"Figure\",\"type\":\"Plot\"},\"ticker\":{\"id\":\"fe7b77b6-d25c-4c86-93cc-137b19da4726\",\"type\":\"BasicTicker\"}},\"id\":\"27b9ff65-afef-41bc-8f12-eff83f988990\",\"type\":\"LinearAxis\"},{\"attributes\":{\"band_fill_alpha\":{\"value\":0.1},\"band_fill_color\":{\"value\":\"navy\"},\"dimension\":1,\"plot\":{\"id\":\"e416bd6b-035c-4d58-b9c6-02c9b377e86d\",\"subtype\":\"Figure\",\"type\":\"Plot\"},\"ticker\":{\"id\":\"fbd2af2c-87ed-40a8-a0c9-319dd918cf98\",\"type\":\"BasicTicker\"}},\"id\":\"8a426057-d0dd-4bf0-8735-00a3509dc03d\",\"type\":\"Grid\"},{\"attributes\":{},\"id\":\"1acf9671-234d-4505-84f3-3dd1455b3d02\",\"type\":\"LinearScale\"},{\"attributes\":{\"callback\":null},\"id\":\"11b20b1d-5745-49dc-9449-c742cb52832c\",\"type\":\"DataRange1d\"},{\"attributes\":{},\"id\":\"fae0c24e-76b7-4f2a-a45b-23743002394f\",\"type\":\"LinearScale\"},{\"attributes\":{\"below\":[{\"id\":\"27b9ff65-afef-41bc-8f12-eff83f988990\",\"type\":\"LinearAxis\"}],\"left\":[{\"id\":\"fdc75a75-b3d6-4ef5-8799-bd280af714c6\",\"type\":\"LinearAxis\"}],\"plot_height\":400,\"plot_width\":400,\"renderers\":[{\"id\":\"27b9ff65-afef-41bc-8f12-eff83f988990\",\"type\":\"LinearAxis\"},{\"id\":\"6d98edb6-814f-4f44-9b16-6e0870cb94c5\",\"type\":\"Grid\"},{\"id\":\"fdc75a75-b3d6-4ef5-8799-bd280af714c6\",\"type\":\"LinearAxis\"},{\"id\":\"8a426057-d0dd-4bf0-8735-00a3509dc03d\",\"type\":\"Grid\"},{\"id\":\"966b70d8-cf57-4d2a-b83b-0d9a3a830623\",\"type\":\"BoxAnnotation\"},{\"id\":\"b322e9ea-e308-4634-9475-3f0214c1eb39\",\"type\":\"GlyphRenderer\"}],\"title\":{\"id\":\"accff558-e74c-41ba-813b-718deb9af761\",\"type\":\"Title\"},\"toolbar\":{\"id\":\"d6cdd0a4-7817-4ffd-a2be-eb7cb796d5fb\",\"type\":\"Toolbar\"},\"x_range\":{\"id\":\"2ba689d8-7bf3-4e9e-9d2e-4d24552c9a90\",\"type\":\"DataRange1d\"},\"x_scale\":{\"id\":\"fae0c24e-76b7-4f2a-a45b-23743002394f\",\"type\":\"LinearScale\"},\"y_range\":{\"id\":\"11b20b1d-5745-49dc-9449-c742cb52832c\",\"type\":\"DataRange1d\"},\"y_scale\":{\"id\":\"1acf9671-234d-4505-84f3-3dd1455b3d02\",\"type\":\"LinearScale\"}},\"id\":\"e416bd6b-035c-4d58-b9c6-02c9b377e86d\",\"subtype\":\"Figure\",\"type\":\"Plot\"},{\"attributes\":{},\"id\":\"4736b53b-5daa-4647-b854-1b33bb554899\",\"type\":\"UnionRenderers\"},{\"attributes\":{},\"id\":\"eaf30cac-7e61-4f7e-afa6-dab3f4a5cae6\",\"type\":\"PanTool\"},{\"attributes\":{},\"id\":\"9cbde158-5f80-46ef-8c10-42370ee5370d\",\"type\":\"BasicTickFormatter\"},{\"attributes\":{\"source\":{\"id\":\"55c5b761-c9a2-40aa-a116-7cb272209fe2\",\"type\":\"ColumnDataSource\"}},\"id\":\"c3436de3-29bc-404e-867e-b5a4a37735dc\",\"type\":\"CDSView\"},{\"attributes\":{\"active_drag\":\"auto\",\"active_inspect\":\"auto\",\"active_scroll\":\"auto\",\"active_tap\":\"auto\",\"tools\":[{\"id\":\"eaf30cac-7e61-4f7e-afa6-dab3f4a5cae6\",\"type\":\"PanTool\"},{\"id\":\"9e57d29e-527b-49c2-b4e8-4f48d7da446f\",\"type\":\"WheelZoomTool\"},{\"id\":\"a3c56dac-cd40-4d78-9684-d634d00ae526\",\"type\":\"BoxZoomTool\"},{\"id\":\"4f744d81-f03c-4aa6-b634-f7057da51c6b\",\"type\":\"SaveTool\"},{\"id\":\"ea43863b-14a6-4176-9e6c-6009866bf1bc\",\"type\":\"ResetTool\"},{\"id\":\"3cf22a73-88ad-47c0-a55a-ccb956cd47c2\",\"type\":\"HelpTool\"}]},\"id\":\"d6cdd0a4-7817-4ffd-a2be-eb7cb796d5fb\",\"type\":\"Toolbar\"},{\"attributes\":{},\"id\":\"3cf22a73-88ad-47c0-a55a-ccb956cd47c2\",\"type\":\"HelpTool\"},{\"attributes\":{\"bottom_units\":\"screen\",\"fill_alpha\":{\"value\":0.5},\"fill_color\":{\"value\":\"lightgrey\"},\"left_units\":\"screen\",\"level\":\"overlay\",\"line_alpha\":{\"value\":1.0},\"line_color\":{\"value\":\"black\"},\"line_dash\":[4,4],\"line_width\":{\"value\":2},\"plot\":null,\"render_mode\":\"css\",\"right_units\":\"screen\",\"top_units\":\"screen\"},\"id\":\"966b70d8-cf57-4d2a-b83b-0d9a3a830623\",\"type\":\"BoxAnnotation\"},{\"attributes\":{},\"id\":\"ea43863b-14a6-4176-9e6c-6009866bf1bc\",\"type\":\"ResetTool\"},{\"attributes\":{},\"id\":\"4f744d81-f03c-4aa6-b634-f7057da51c6b\",\"type\":\"SaveTool\"},{\"attributes\":{\"data_source\":{\"id\":\"55c5b761-c9a2-40aa-a116-7cb272209fe2\",\"type\":\"ColumnDataSource\"},\"glyph\":{\"id\":\"deccd7ac-b0fb-4c69-918f-cb63261a4662\",\"type\":\"Circle\"},\"hover_glyph\":null,\"muted_glyph\":null,\"nonselection_glyph\":{\"id\":\"29ad0a61-ff2c-4a93-8486-cd3b1ccea916\",\"type\":\"Circle\"},\"selection_glyph\":null,\"view\":{\"id\":\"c3436de3-29bc-404e-867e-b5a4a37735dc\",\"type\":\"CDSView\"}},\"id\":\"b322e9ea-e308-4634-9475-3f0214c1eb39\",\"type\":\"GlyphRenderer\"},{\"attributes\":{\"callback\":null},\"id\":\"2ba689d8-7bf3-4e9e-9d2e-4d24552c9a90\",\"type\":\"DataRange1d\"},{\"attributes\":{\"overlay\":{\"id\":\"966b70d8-cf57-4d2a-b83b-0d9a3a830623\",\"type\":\"BoxAnnotation\"}},\"id\":\"a3c56dac-cd40-4d78-9684-d634d00ae526\",\"type\":\"BoxZoomTool\"},{\"attributes\":{\"fill_color\":{\"value\":\"#1f77b4\"},\"line_color\":{\"value\":\"#1f77b4\"},\"size\":{\"units\":\"screen\",\"value\":10},\"x\":{\"field\":\"x\"},\"y\":{\"field\":\"y\"}},\"id\":\"deccd7ac-b0fb-4c69-918f-cb63261a4662\",\"type\":\"Circle\"},{\"attributes\":{},\"id\":\"9e57d29e-527b-49c2-b4e8-4f48d7da446f\",\"type\":\"WheelZoomTool\"},{\"attributes\":{},\"id\":\"fbd2af2c-87ed-40a8-a0c9-319dd918cf98\",\"type\":\"BasicTicker\"},{\"attributes\":{\"plot\":null,\"text\":\"\"},\"id\":\"accff558-e74c-41ba-813b-718deb9af761\",\"type\":\"Title\"},{\"attributes\":{},\"id\":\"1c711ae2-e707-4830-b28e-33b3f2b02cdf\",\"type\":\"Selection\"},{\"attributes\":{\"fill_alpha\":{\"value\":0.1},\"fill_color\":{\"value\":\"#1f77b4\"},\"line_alpha\":{\"value\":0.1},\"line_color\":{\"value\":\"#1f77b4\"},\"size\":{\"units\":\"screen\",\"value\":10},\"x\":{\"field\":\"x\"},\"y\":{\"field\":\"y\"}},\"id\":\"29ad0a61-ff2c-4a93-8486-cd3b1ccea916\",\"type\":\"Circle\"},{\"attributes\":{\"formatter\":{\"id\":\"9cbde158-5f80-46ef-8c10-42370ee5370d\",\"type\":\"BasicTickFormatter\"},\"plot\":{\"id\":\"e416bd6b-035c-4d58-b9c6-02c9b377e86d\",\"subtype\":\"Figure\",\"type\":\"Plot\"},\"ticker\":{\"id\":\"fbd2af2c-87ed-40a8-a0c9-319dd918cf98\",\"type\":\"BasicTicker\"}},\"id\":\"fdc75a75-b3d6-4ef5-8799-bd280af714c6\",\"type\":\"LinearAxis\"},{\"attributes\":{\"callback\":null,\"data\":{\"x\":[1,2,3,4,5],\"y\":[2,5,8,2,7]},\"selected\":{\"id\":\"1c711ae2-e707-4830-b28e-33b3f2b02cdf\",\"type\":\"Selection\"},\"selection_policy\":{\"id\":\"4736b53b-5daa-4647-b854-1b33bb554899\",\"type\":\"UnionRenderers\"}},\"id\":\"55c5b761-c9a2-40aa-a116-7cb272209fe2\",\"type\":\"ColumnDataSource\"},{\"attributes\":{\"grid_line_color\":{\"value\":null},\"plot\":{\"id\":\"e416bd6b-035c-4d58-b9c6-02c9b377e86d\",\"subtype\":\"Figure\",\"type\":\"Plot\"},\"ticker\":{\"id\":\"fe7b77b6-d25c-4c86-93cc-137b19da4726\",\"type\":\"BasicTicker\"}},\"id\":\"6d98edb6-814f-4f44-9b16-6e0870cb94c5\",\"type\":\"Grid\"},{\"attributes\":{},\"id\":\"d62546a5-706c-4f4e-9e6d-23b793c8eeeb\",\"type\":\"BasicTickFormatter\"},{\"attributes\":{},\"id\":\"fe7b77b6-d25c-4c86-93cc-137b19da4726\",\"type\":\"BasicTicker\"}],\"root_ids\":[\"e416bd6b-035c-4d58-b9c6-02c9b377e86d\"]},\"title\":\"Bokeh Application\",\"version\":\"0.12.16\"}};\n",
       "  var render_items = [{\"docid\":\"526ebcbb-467b-4c6a-a57e-2e80ce768f3d\",\"elementid\":\"745fabdb-0085-444b-ba35-8b8b5490cc58\",\"modelid\":\"e416bd6b-035c-4d58-b9c6-02c9b377e86d\"}];\n",
       "  root.Bokeh.embed.embed_items_notebook(docs_json, render_items);\n",
       "\n",
       "  }\n",
       "  if (root.Bokeh !== undefined) {\n",
       "    embed_document(root);\n",
       "  } else {\n",
       "    var attempts = 0;\n",
       "    var timer = setInterval(function(root) {\n",
       "      if (root.Bokeh !== undefined) {\n",
       "        embed_document(root);\n",
       "        clearInterval(timer);\n",
       "      }\n",
       "      attempts++;\n",
       "      if (attempts > 100) {\n",
       "        console.log(\"Bokeh: ERROR: Unable to run BokehJS code because BokehJS library is missing\")\n",
       "        clearInterval(timer);\n",
       "      }\n",
       "    }, 10, root)\n",
       "  }\n",
       "})(window);"
      ],
      "application/vnd.bokehjs_exec.v0+json": ""
     },
     "metadata": {
      "application/vnd.bokehjs_exec.v0+json": {
       "id": "e416bd6b-035c-4d58-b9c6-02c9b377e86d"
      }
     },
     "output_type": "display_data"
    }
   ],
   "source": [
    "p = figure(plot_width=400, plot_height=400)\n",
    "p.circle([1,2,3,4,5], [2,5,8,2,7], size=10)\n",
    "\n",
    "# change just some things about the x-grid\n",
    "p.xgrid.grid_line_color = None\n",
    "\n",
    "# change just some things about the y-grid\n",
    "p.ygrid.band_fill_alpha = 0.1\n",
    "p.ygrid.band_fill_color = \"navy\"\n",
    "\n",
    "show(p)"
   ]
  },
  {
   "cell_type": "code",
   "execution_count": null,
   "metadata": {},
   "outputs": [],
   "source": [
    "# EXERCISE Create a plot of your own and customize several grid properties\n"
   ]
  },
  {
   "cell_type": "code",
   "execution_count": null,
   "metadata": {},
   "outputs": [],
   "source": []
  }
 ],
 "metadata": {
  "kernelspec": {
   "display_name": "Python 3",
   "language": "python",
   "name": "python3"
  },
  "language_info": {
   "codemirror_mode": {
    "name": "ipython",
    "version": 3
   },
   "file_extension": ".py",
   "mimetype": "text/x-python",
   "name": "python",
   "nbconvert_exporter": "python",
   "pygments_lexer": "ipython3",
   "version": "3.6.5"
  }
 },
 "nbformat": 4,
 "nbformat_minor": 1
}
